{
 "cells": [
  {
   "cell_type": "markdown",
   "metadata": {
    "collapsed": true
   },
   "source": [
    "Given a binary search tree (BST) with duplicates, find all the mode(s) (the most frequently occurred element) in the given BST.\n",
    "\n",
    "Assume a BST is defined as follows:\n",
    "\n",
    "The left subtree of a node contains only nodes with keys less than or equal to the node's key.\n",
    "The right subtree of a node contains only nodes with keys greater than or equal to the node's key.\n",
    "Both the left and right subtrees must also be binary search trees.\n",
    " \n",
    "\n",
    "For example:\n",
    "Given BST [1,null,2,2],\n",
    "\n",
    "   1\n",
    "    \\\n",
    "     2\n",
    "    /\n",
    "   2\n",
    " \n",
    "\n",
    "return [2].\n",
    "\n",
    "Note: If a tree has more than one mode, you can return them in any order.\n",
    "\n",
    "Follow up: Could you do that without using any extra space? (Assume that the implicit stack space incurred due to recursion does not count)."
   ]
  },
  {
   "cell_type": "code",
   "execution_count": 23,
   "metadata": {},
   "outputs": [],
   "source": [
    "# Definition for a binary tree node.\n",
    "class TreeNode(object):\n",
    "    def __init__(self, x):\n",
    "        self.val = x\n",
    "        self.left = None\n",
    "        self.right = None\n",
    "\n",
    "class Solution(object):\n",
    "    def findMode(self, root):\n",
    "        \"\"\"\n",
    "        :type root: TreeNode\n",
    "        :rtype: List[int]\n",
    "        \"\"\"\n",
    "        nodes = [root]\n",
    "        global_max = None\n",
    "        global_max_count = 0\n",
    "        \n",
    "        while len(nodes) != 0:\n",
    "            \n",
    "            current = nodes[-1]\n",
    "            nodes = nodes[:-1]\n",
    "            current_max = None\n",
    "            current_max_count = 0\n",
    "            if current.left is not None:\n",
    "                nodes.append(current.left)\n",
    "            while current.right is not None:\n",
    "                if current.right.val == current.val:\n",
    "                    current_max = current.val\n",
    "                    current_max_count += 1\n",
    "                    current = current.right\n",
    "                    if current.left is not None:\n",
    "                        nodes.append(current.left)\n",
    "                else:\n",
    "                    nodes.append(current.right)\n",
    "                    break\n",
    "            if global_max_count < current_max_count:\n",
    "                global_max = current_max\n",
    "                global_max_count = current_max_count\n",
    "        return global_max"
   ]
  },
  {
   "cell_type": "code",
   "execution_count": 22,
   "metadata": {},
   "outputs": [
    {
     "name": "stdout",
     "output_type": "stream",
     "text": [
      "13 2\n"
     ]
    },
    {
     "data": {
      "text/plain": [
       "13"
      ]
     },
     "execution_count": 22,
     "metadata": {},
     "output_type": "execute_result"
    }
   ],
   "source": [
    "solution = Solution()\n",
    "root = TreeNode(13)\n",
    "root.left = TreeNode(8)\n",
    "root.right = TreeNode(13)\n",
    "root.right.right = TreeNode(13)\n",
    "root.right.left = TreeNode(11)\n",
    "root.left.left = TreeNode(7)\n",
    "root.left.right = TreeNode(9)\n",
    "solution.findMode(root)"
   ]
  },
  {
   "cell_type": "code",
   "execution_count": null,
   "metadata": {},
   "outputs": [],
   "source": []
  }
 ],
 "metadata": {
  "kernelspec": {
   "display_name": "Python 2",
   "language": "python",
   "name": "python2"
  },
  "language_info": {
   "codemirror_mode": {
    "name": "ipython",
    "version": 2
   },
   "file_extension": ".py",
   "mimetype": "text/x-python",
   "name": "python",
   "nbconvert_exporter": "python",
   "pygments_lexer": "ipython2",
   "version": "2.7.6"
  }
 },
 "nbformat": 4,
 "nbformat_minor": 0
}
