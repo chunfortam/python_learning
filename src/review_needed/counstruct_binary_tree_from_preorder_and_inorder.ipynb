{
 "cells": [
  {
   "cell_type": "markdown",
   "metadata": {
    "collapsed": true
   },
   "source": [
    "https://leetcode.com/problems/construct-binary-tree-from-preorder-and-inorder-traversal/description/\n",
    "Given preorder and inorder traversal of a tree, construct the binary tree.\n",
    "\n",
    "Note:\n",
    "You may assume that duplicates do not exist in the tree.\n",
    "\n",
    "For example, given\n",
    "\n",
    "preorder = [3,9,20,15,7]\n",
    "inorder = [9,3,15,20,7]\n",
    "Return the following binary tree:\n",
    "\n",
    "    3\n",
    "   / \\\n",
    "  9  20\n",
    "    / \\\n",
    "   15   7"
   ]
  },
  {
   "cell_type": "code",
   "execution_count": 49,
   "metadata": {},
   "outputs": [],
   "source": [
    "# Definition for a binary tree node.\n",
    "class TreeNode(object):\n",
    "     def __init__(self, x):\n",
    "         self.val = x\n",
    "         self.left = None\n",
    "         self.right = None\n",
    "\n",
    "class Solution(object):\n",
    "    def buildSubTree(self,preorder,inorder):\n",
    "        if len(preorder) == 0:\n",
    "            return None                                                                                        \n",
    "        if len(preorder) == 2:\n",
    "            if preorder[0] != inorder[0]:\n",
    "                result = TreeNode(preorder[0])\n",
    "                result.left = TreeNode(preorder[1])\n",
    "            else:\n",
    "                result = TreeNode(preorder[0])\n",
    "                result.right = TreeNode(preorder[1])\n",
    "            return result\n",
    "        if len(preorder) == 1:\n",
    "            return TreeNode(preorder[0])\n",
    "                \n",
    "        head = TreeNode(preorder[0])\n",
    "        split_point = 0\n",
    "        for i in range(0,len(inorder)):\n",
    "            if inorder[i] == head.val:\n",
    "                split_point = i\n",
    "                break\n",
    "        in_left,in_right = inorder[0:split_point], inorder[split_point + 1:]\n",
    "        pre_left,pre_right = preorder[1:len(in_left) + 1],preorder[1 + len(in_left):]\n",
    "        \n",
    "                                                  \n",
    "        head.left = self.buildSubTree(pre_left,in_left)\n",
    "        head.right = self.buildSubTree(pre_right,in_right)\n",
    "        \n",
    "        return head\n",
    "                \n",
    "                \n",
    "    \n",
    "            \n",
    "            \n",
    "        \n",
    "        \n"
   ]
  },
  {
   "cell_type": "code",
   "execution_count": 54,
   "metadata": {},
   "outputs": [
    {
     "name": "stdout",
     "output_type": "stream",
     "text": [
      "3\n"
     ]
    }
   ],
   "source": [
    "solution = Solution()\n",
    "result = solution.buildSubTree([7,3,1,0,2,5,4,6,11,9,8,10,13,12,14],[0,1,2,3,4,5,6,7,8,9,10,11,12,13,14])\n",
    "result = solution.buildSubTree([1,2,3],[3,2,1])\n",
    "print(result.left.left.val)"
   ]
  },
  {
   "cell_type": "code",
   "execution_count": 20,
   "metadata": {
    "collapsed": false
   },
   "outputs": [
    {
     "name": "stdout",
     "output_type": "stream",
     "text": [
      "[1]\n[2, 3]\n[4, 5, 6, 7]\n"
     ]
    }
   ],
   "source": [
    ""
   ]
  },
  {
   "cell_type": "code",
   "execution_count": 20,
   "metadata": {},
   "outputs": [
    {
     "name": "stdout",
     "output_type": "stream",
     "text": [
      "1\n2\n3\n4\n8\n"
     ]
    }
   ],
   "source": [
    "print(result.val)\n",
    "print(result.left.val)\n",
    "print(result.right.val)\n",
    "print(result.right.left.val)\n",
    "print(result.right.right.val)"
   ]
  },
  {
   "cell_type": "code",
   "execution_count": 1,
   "metadata": {},
   "outputs": [],
   "source": [
    "# Definition for a binary tree node.\n",
    "class TreeNode(object):\n",
    "    def __init__(self, x):\n",
    "        self.val = x\n",
    "        self.left = None\n",
    "        self.right = None\n",
    "\n",
    "class Solution(object):\n",
    "    def buildSubTree(self,preorder,inorder):\n",
    "        if len(preorder) == inorder == 3:\n",
    "            root_node = TreeNode(preorder[0])\n",
    "            root_node.left = TreeNode(preorder[1])\n",
    "            root_node.right = TreeNode(preorder[2])\n",
    "            return root_node\n",
    "        elif len(preorder) == 1 or len(inorder) == 1:\n",
    "            return TreeNode(preorder[0])\n",
    "        elif len(preorder) == 0 or len(inorder) == 0 :\n",
    "            return None\n",
    "        elif preorder == inorder:\n",
    "            root_node = TreeNode(preorder[0])\n",
    "            root_node.left = TreeNode(preorder[1])\n",
    "            return root_node\n",
    "        else:\n",
    "            root_node = TreeNode(preorder[0])\n",
    "            root_node.right = TreeNode(preorder[2])\n",
    "            return TreeNode(preorder[0])\n",
    "\n",
    "    def buildTree(self, preorder, inorder):\n",
    "        \"\"\"\n",
    "        :type preorder: List[int]\n",
    "        :type inorder: List[int]\n",
    "        :rtype: TreeNode\n",
    "        \"\"\"\n",
    "        tree_len = len(preorder)\n",
    "        if tree_len == 0 :\n",
    "            return None\n",
    "        elif tree_len <= 3:\n",
    "            return self.buildSubTree(preorder,inorder)\n",
    "        else:\n",
    "            root = preorder[0]\n",
    "            root_index = inorder.index(root)\n",
    "\n",
    "            left_sub_tree_inorder = inorder[0:root_index]\n",
    "            right_sub_tree_inorder = inorder[root_index:]\n",
    "\n",
    "            left_sub_tree_len = len(left_sub_tree_inorder)\n",
    "            right_sub_tree_len = len(right_sub_tree_inorder)\n",
    "            preorder.remove(root)\n",
    "            left_sub_tree_preorder = preorder[0:left_sub_tree_len]\n",
    "            right_sub_tree_preorder = preorder[left_sub_tree_len:]\n",
    "\n",
    "            root_node = TreeNode(root)\n",
    "            root_node.left = self.buildTree(left_sub_tree_preorder,left_sub_tree_inorder)\n",
    "            root_node.right = self.buildTree(right_sub_tree_preorder,right_sub_tree_inorder)\n",
    "            return root_node\n",
    "\n",
    "            \n",
    "            \n",
    "        \n",
    "        \n"
   ]
  },
  {
   "cell_type": "code",
   "execution_count": null,
   "metadata": {},
   "outputs": [],
   "source": [
    "\n",
    "\n",
    "treelist = [TreeNode(i) for i in range(1,8)]\n",
    "\n",
    "\n",
    "def build_perfect_balanced_tree(treelist):\n",
    "    root_list = [treelist[0]]\n",
    "    root = root_list[0]\n",
    "    treelist = treelist[1:]\n",
    "\n",
    "    while len(treelist) != 0:\n",
    "        root_list[0].left = treelist[0]\n",
    "        root_list[0].right = treelist[1]\n",
    "        root_list = root_list[1:]\n",
    "\n",
    "        root_list.append(treelist[0])\n",
    "        root_list.append(treelist[1])\n",
    "        treelist = treelist[2:]\n",
    "\n",
    "    return root\n",
    "\n",
    "root = build_perfect_balanced_tree(treelist)\n",
    "\n",
    "def printTree(head):\n",
    "    node_list = [head,None]\n",
    "    result = []\n",
    "    while len(node_list) != 0:\n",
    "        current = node_list[0]\n",
    "        if current is not None:\n",
    "            result.append(current.val)\n",
    "            if current.left is not None:\n",
    "                node_list.append(current.left)\n",
    "            if current.right is not None:\n",
    "                node_list.append(current.right)\n",
    "        else:\n",
    "            print(result)\n",
    "            result = []\n",
    "            if len(node_list) == 1:\n",
    "                break\n",
    "            node_list.append(None)\n",
    "        node_list = node_list[1:]\n",
    "\n",
    "printTree(root)\n",
    "\n"
   ]
  }
 ],
 "metadata": {
  "kernelspec": {
   "display_name": "Python 2",
   "language": "python",
   "name": "python2"
  },
  "language_info": {
   "codemirror_mode": {
    "name": "ipython",
    "version": 2
   },
   "file_extension": ".py",
   "mimetype": "text/x-python",
   "name": "python",
   "nbconvert_exporter": "python",
   "pygments_lexer": "ipython2",
   "version": "2.7.6"
  }
 },
 "nbformat": 4,
 "nbformat_minor": 0
}
