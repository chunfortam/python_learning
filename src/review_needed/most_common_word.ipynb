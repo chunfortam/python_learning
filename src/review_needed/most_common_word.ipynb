{
 "cells": [
  {
   "cell_type": "markdown",
   "metadata": {
    "collapsed": true
   },
   "source": [
    "Given a paragraph and a list of banned words, return the most frequent word that is not in the list of banned words.  It is guaranteed there is at least one word that isn't banned, and that the answer is unique.\n",
    "\n",
    "Words in the list of banned words are given in lowercase, and free of punctuation.  Words in the paragraph are not case sensitive.  The answer is in lowercase.\n",
    "\n",
    "Example:\n",
    "\n",
    "Input:\n",
    "\n",
    "paragraph = \"Bob hit a ball, the hit BALL flew far after it was hit.\"\n",
    "\n",
    "banned = [\"hit\"]\n",
    "\n",
    "Output: \"ball\"\n",
    "\n",
    "Explanation:\n",
    "\n",
    "\"hit\" occurs 3 times, but it is a banned word.\n",
    "\n",
    "\"ball\" occurs twice (and no other word does), so it is the most frequent non-banned word in the paragraph.\n",
    "\n",
    "Note that words in the paragraph are not case sensitive,\n",
    "\n",
    "that punctuation is ignored (even if adjacent to words, such as \"ball,\"),\n",
    "\n",
    "and that \"hit\" isn't the answer even though it occurs more because it is banned.\n",
    "\n",
    "\n",
    "\n",
    "Note:\n",
    "\n",
    "1 <= paragraph.length <= 1000.\n",
    "\n",
    "1 <= banned.length <= 100.\n",
    "\n",
    "1 <= banned[i].length <= 10.\n",
    "\n",
    "The answer is unique, and written in lowercase (even if its occurrences in paragraph may have uppercase symbols, and even if it is a proper noun.)\n",
    "\n",
    "paragraph only consists of letters, spaces, or the punctuation symbols !?',;.\n",
    "\n",
    "Different words in paragraph are always separated by a space.\n",
    "\n",
    "There are no hyphens or hyphenated words.\n",
    "\n",
    "Words only consist of letters, never apostrophes or other punctuation symbols."
   ]
  },
  {
   "cell_type": "code",
   "execution_count": 62,
   "metadata": {},
   "outputs": [],
   "source": [
    "import string\n",
    "class Solution(object):\n",
    "    def mostCommonWord(self, paragraph, banned):\n",
    "        \"\"\"\n",
    "        :type paragraph: str\n",
    "        :type banned: List[str]\n",
    "        :rtype: str\n",
    "        \"\"\"\n",
    "        paragraph = str(paragraph)  \n",
    "        translation = string.maketrans(\"!?',;.\", \" \"* 6)\n",
    "        paragraph_no_pun = paragraph.translate(translation,\"\")\n",
    "        #print(paragraph_no_pun)\n",
    "        words = paragraph_no_pun.split(\" \")\n",
    "        word_count ={}\n",
    "        for word in words:\n",
    "            word = word.lower()\n",
    "            if len(word) != 0 and word not in banned:\n",
    "                if word in word_count:\n",
    "                    word_count[word] += 1\n",
    "                else:\n",
    "                    word_count[word] = 1\n",
    "        print(word_count)            \n",
    "        return max(word_count, key=lambda key: word_count[key])\n",
    "                \n",
    "        "
   ]
  },
  {
   "cell_type": "code",
   "execution_count": 64,
   "metadata": {},
   "outputs": [
    {
     "name": "stdout",
     "output_type": "stream",
     "text": [
      "{'a': 1, 'ball': 2, 'far': 1, 'after': 1, 'it': 1, 'flew': 1, 'bob': 1, 'was': 1, 'the': 1}\n{'c': 2, 'b': 3}\n"
     ]
    },
    {
     "data": {
      "text/plain": [
       "'b'"
      ]
     },
     "execution_count": 64,
     "metadata": {},
     "output_type": "execute_result"
    }
   ],
   "source": [
    "solution = Solution()\n",
    "solution.mostCommonWord(u\"Bob hit a ball, the hit BALL?flew far after it was hit.\", [\"hit\"])\n",
    "solution.mostCommonWord(u\"a, a, a, a, b,b,b,c, c\",[\"a\"])"
   ]
  },
  {
   "cell_type": "markdown",
   "metadata": {},
   "source": [
    "s.translate(None, string.punctuation)"
   ]
  },
  {
   "cell_type": "markdown",
   "metadata": {},
   "source": [
    "review the usage of string translate, find max of dic "
   ]
  },
  {
   "cell_type": "code",
   "execution_count": null,
   "metadata": {},
   "outputs": [],
   "source": []
  }
 ],
 "metadata": {
  "kernelspec": {
   "display_name": "Python 2",
   "language": "python",
   "name": "python2"
  },
  "language_info": {
   "codemirror_mode": {
    "name": "ipython",
    "version": 2
   },
   "file_extension": ".py",
   "mimetype": "text/x-python",
   "name": "python",
   "nbconvert_exporter": "python",
   "pygments_lexer": "ipython2",
   "version": "2.7.6"
  }
 },
 "nbformat": 4,
 "nbformat_minor": 0
}
