{
 "cells": [
  {
   "cell_type": "markdown",
   "metadata": {
    "collapsed": true
   },
   "source": [
    "You are given two non-empty linked lists representing two non-negative integers. The digits are stored in reverse order and each of their nodes contain a single digit. Add the two numbers and return it as a linked list.\n",
    "\n",
    "You may assume the two numbers do not contain any leading zero, except the number 0 itself.\n",
    "\n",
    "Example:\n",
    "\n",
    "Input: (2 -> 4 -> 3) + (5 -> 6 -> 4)\n",
    "Output: 7 -> 0 -> 8\n",
    "Explanation: 342 + 465 = 807.\n"
   ]
  },
  {
   "cell_type": "code",
   "execution_count": 33,
   "metadata": {},
   "outputs": [],
   "source": [
    "# Definition for singly-linked list.\n",
    "class ListNode(object):\n",
    "    def __init__(self, x):\n",
    "        self.val = x\n",
    "        self.next = None\n",
    "\n",
    "class Solution(object):\n",
    "    def addTwoNumbers(self, l1, l2):\n",
    "        \"\"\"\n",
    "        :type l1: ListNode\n",
    "        :type l2: ListNode\n",
    "        :rtype: ListNode\n",
    "        \"\"\"\n",
    "        l1_num = 0\n",
    "        index = 0\n",
    "        current = l1\n",
    "        \n",
    "        while current is not None:\n",
    "            l1_num += current.val * (10 ** index)\n",
    "            index += 1\n",
    "            current = current.next\n",
    "            \n",
    "        l2_num = 0\n",
    "        index = 0\n",
    "        current = l2\n",
    "        while current is not None:\n",
    "            l2_num += current.val * (10 ** index)\n",
    "            index += 1\n",
    "            current = current.next\n",
    " \n",
    "        result = l1_num + l2_num\n",
    "        digit_list = [int(d) for d in str(result)]\n",
    "        digit_list = digit_list[::-1]\n",
    "        head = ListNode(digit_list[0])\n",
    "        current = head\n",
    "        for i in digit_list[1:]:\n",
    "            current.next = ListNode(i)\n",
    "            current = current.next\n",
    "        return head\n",
    "        "
   ]
  },
  {
   "cell_type": "code",
   "execution_count": 34,
   "metadata": {},
   "outputs": [
    {
     "name": "stdout",
     "output_type": "stream",
     "text": [
      "7\n0\n8\n"
     ]
    }
   ],
   "source": [
    "solution = Solution()\n",
    "head1 = ListNode(2)\n",
    "head1.next = ListNode(4)\n",
    "head1.next.next = ListNode(3)\n",
    "\n",
    "head2 = ListNode(5)\n",
    "head2.next = ListNode(6)\n",
    "head2.next.next = ListNode(4)\n",
    "result = solution.addTwoNumbers(head1,head2)\n",
    "\n",
    "while result is not None:\n",
    "    print(result.val)\n",
    "    result = result.next"
   ]
  },
  {
   "cell_type": "code",
   "execution_count": 21,
   "metadata": {},
   "outputs": [],
   "source": []
  },
  {
   "cell_type": "code",
   "execution_count": null,
   "metadata": {},
   "outputs": [],
   "source": []
  }
 ],
 "metadata": {
  "kernelspec": {
   "display_name": "Python 2",
   "language": "python",
   "name": "python2"
  },
  "language_info": {
   "codemirror_mode": {
    "name": "ipython",
    "version": 2
   },
   "file_extension": ".py",
   "mimetype": "text/x-python",
   "name": "python",
   "nbconvert_exporter": "python",
   "pygments_lexer": "ipython2",
   "version": "2.7.6"
  }
 },
 "nbformat": 4,
 "nbformat_minor": 0
}
