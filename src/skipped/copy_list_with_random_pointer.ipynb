{
 "cells": [
  {
   "cell_type": "markdown",
   "metadata": {
    "collapsed": true
   },
   "source": [
    "A linked list is given such that each node contains an additional random pointer which could point to any node in the list or null.\n",
    "\n",
    "Return a deep copy of the list.\n",
    "\n"
   ]
  },
  {
   "cell_type": "code",
   "execution_count": 9,
   "metadata": {},
   "outputs": [],
   "source": [
    "import copy\n",
    "class RandomListNode(object):\n",
    "     def __init__(self, x):\n",
    "        self.label = x\n",
    "        self.next = None\n",
    "        self.random = None\n",
    "\n",
    "class Solution(object):\n",
    "    def copyRandomList(self, head):\n",
    "        \"\"\"\n",
    "        :type head: RandomListNode\n",
    "        :rtype: RandomListNode\n",
    "        \"\"\"\n",
    "        if not head:\n",
    "            return None\n",
    "        node_dict = {}\n",
    "        \n",
    "        current = head\n",
    "        while current:\n",
    "            node = RandomListNode(current.label)\n",
    "            node_dict[current] = node\n",
    "            current = current.next\n",
    "        current = head\n",
    "        while current:\n",
    "            if current.next:\n",
    "                node_dict[current].next = node_dict[current.next]\n",
    "            if current.random:\n",
    "                node_dict[current].random = node_dict[current.random]\n",
    "            current = current.next\n",
    "        return node_dict[head]\n",
    "            \n",
    "        "
   ]
  },
  {
   "cell_type": "code",
   "execution_count": 31,
   "metadata": {},
   "outputs": [],
   "source": [
    "import copy\n",
    "class RandomListNode(object):\n",
    "    def __init__(self, x):\n",
    "        self.label = x\n",
    "        self.next = None\n",
    "        self.random = None\n",
    "\n",
    "class Solution(object):\n",
    "    def copyRandomList(self, head):\n",
    "        \"\"\"\n",
    "        :type head: RandomListNode\n",
    "        :rtype: RandomListNode\n",
    "        \"\"\"\n",
    "        if not head:\n",
    "            return None\n",
    "        node_dict = {}\n",
    "\n",
    "        current = head\n",
    "        while current:\n",
    "            node = RandomListNode(current.label)\n",
    "            node.next = current.next\n",
    "            current.next = node\n",
    "            current = node.next\n",
    "        current = head\n",
    "        new_head = head.next\n",
    "        while current:\n",
    "            clone_node = current.next\n",
    "            next = clone_node.next\n",
    "            if clone_node.next:\n",
    "                clone_node.next = clone_node.next.next\n",
    "                current.next = clone_node.next\n",
    "            if current.random:\n",
    "                clone_node.random = current.random.next\n",
    "            current = next\n",
    "        return new_head\n",
    "            \n",
    "        "
   ]
  },
  {
   "cell_type": "code",
   "execution_count": 33,
   "metadata": {},
   "outputs": [
    {
     "name": "stdout",
     "output_type": "stream",
     "text": [
      "current is 1\nNext is 2\nrandom is 4\ncurrent is 2\nNext is 3\nrandom is 2\ncurrent is 3\nNext is 4\nrandom is 3\ncurrent is 4\nrandom is 4\n====\ncurrent is 1\nNext is 2\nrandom is 4\ncurrent is 2\nNext is 3\nrandom is 2\ncurrent is 3\nNext is 4\nrandom is 3\ncurrent is 4\nrandom is 4\n"
     ]
    }
   ],
   "source": [
    "solution = Solution()\n",
    "node1 = RandomListNode(1)\n",
    "node2 = RandomListNode(2)\n",
    "node3 = RandomListNode(3)\n",
    "node4 = RandomListNode(4)\n",
    "\n",
    "node1.next = node2\n",
    "node2.next = node3\n",
    "node3.next = node4\n",
    "\n",
    "node1.random = node4\n",
    "node2.random = node1\n",
    "node3.random = node2\n",
    "node4.random = node4\n",
    "\n",
    "result = solution.copyRandomList(node1)\n",
    "current = result\n",
    "\n",
    "while current:\n",
    "    print(\"current is %d\" % current.label)\n",
    "    if current.next:\n",
    "        print(\"Next is %d\" % current.next.label)\n",
    "    if current.random:\n",
    "        print(\"random is %d\" % current.random.label)\n",
    "    current = current.next\n",
    "\n",
    "current = node1\n",
    "print(\"====\")\n",
    "while current:\n",
    "    print(\"current is %d\" % current.label)\n",
    "    if current.next:\n",
    "        print(\"Next is %d\" % current.next.label)\n",
    "    if current.random:\n",
    "        print(\"random is %d\" % current.random.label)\n",
    "    current = current.next\n",
    "    "
   ]
  },
  {
   "cell_type": "code",
   "execution_count": 34,
   "metadata": {},
   "outputs": [],
   "source": []
  },
  {
   "cell_type": "code",
   "execution_count": null,
   "metadata": {},
   "outputs": [],
   "source": []
  }
 ],
 "metadata": {
  "kernelspec": {
   "display_name": "Python 2",
   "language": "python",
   "name": "python2"
  },
  "language_info": {
   "codemirror_mode": {
    "name": "ipython",
    "version": 2
   },
   "file_extension": ".py",
   "mimetype": "text/x-python",
   "name": "python",
   "nbconvert_exporter": "python",
   "pygments_lexer": "ipython2",
   "version": "2.7.6"
  }
 },
 "nbformat": 4,
 "nbformat_minor": 0
}
