{
 "cells": [
  {
   "cell_type": "markdown",
   "metadata": {
    "collapsed": true
   },
   "source": [
    "Given a binary tree, return the preorder traversal of its nodes' values.\n",
    "\n",
    "Example:\n",
    "\n",
    "Input: [1,null,2,3]\n",
    "1\n",
    "\\\n",
    "2\n",
    "/\n",
    "3\n",
    "\n",
    "Output: [1,2,3]\n",
    "Follow up: Recursive solution is trivial, could you do it iteratively?"
   ]
  },
  {
   "cell_type": "code",
   "execution_count": 7,
   "metadata": {},
   "outputs": [],
   "source": [
    "# Definition for a binary tree node.\n",
    "class TreeNode(object):\n",
    "     def __init__(self, x):\n",
    "         self.val = x\n",
    "         self.left = None\n",
    "         self.right = None\n",
    "\n",
    "class Solution(object):\n",
    "    def preorderTraversal(self, root):\n",
    "        \"\"\"\n",
    "        :type root: TreeNode\n",
    "        :rtype: List[int]\n",
    "        \"\"\"\n",
    "        \"\"\n",
    "        current = root\n",
    "        right_node = []\n",
    "        result = []\n",
    "        \n",
    "        while current is not None:\n",
    "            result.append(current.val)    \n",
    "            if current.right is not None:\n",
    "                right_node.append(current.right)\n",
    "            if current.left is not None:\n",
    "                current = current.left\n",
    "            else:\n",
    "                if len(right_node) != 0:\n",
    "                    current = right_node[-1]\n",
    "                    right_node = right_node[:-1]\n",
    "                else:\n",
    "                    current = None\n",
    "        return result"
   ]
  },
  {
   "cell_type": "code",
   "execution_count": 8,
   "metadata": {},
   "outputs": [
    {
     "data": {
      "text/plain": [
       "[50, 25, 15, 38, 75, 60, 80]"
      ]
     },
     "execution_count": 8,
     "metadata": {},
     "output_type": "execute_result"
    }
   ],
   "source": [
    "solution = Solution()\n",
    "root = TreeNode(50)\n",
    "root.left = TreeNode(25)\n",
    "root.right = TreeNode(75)\n",
    "root.left.left = TreeNode(15)\n",
    "root.left.right = TreeNode(38)\n",
    "root.right.left = TreeNode(60)\n",
    "root.right.right = TreeNode(80)\n",
    "solution.preorderTraversal(root)"
   ]
  },
  {
   "cell_type": "code",
   "execution_count": null,
   "metadata": {},
   "outputs": [],
   "source": []
  }
 ],
 "metadata": {
  "kernelspec": {
   "display_name": "Python 2",
   "language": "python",
   "name": "python2"
  },
  "language_info": {
   "codemirror_mode": {
    "name": "ipython",
    "version": 2
   },
   "file_extension": ".py",
   "mimetype": "text/x-python",
   "name": "python",
   "nbconvert_exporter": "python",
   "pygments_lexer": "ipython2",
   "version": "2.7.6"
  }
 },
 "nbformat": 4,
 "nbformat_minor": 0
}
