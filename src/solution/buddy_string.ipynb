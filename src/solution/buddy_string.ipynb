{
 "cells": [
  {
   "cell_type": "markdown",
   "metadata": {
    "collapsed": true
   },
   "source": [
    "Given two strings A and B of lowercase letters, return true if and only if we can swap two letters in A so that the result equals B."
   ]
  },
  {
   "cell_type": "markdown",
   "metadata": {},
   "source": [
    "Examples:"
   ]
  },
  {
   "cell_type": "markdown",
   "metadata": {},
   "source": [
    "Input: A = \"ab\", B = \"ba\"\n",
    "Output: true\n",
    "\n",
    "Input: A = \"ab\", B = \"ab\"\n",
    "Output: false\n",
    "\n",
    "Input: A = \"aa\", B = \"aa\"\n",
    "Output: true\n",
    "\n",
    "Input: A = \"aaaaaaabc\", B = \"aaaaaaacb\"\n",
    "Output: true\n",
    "\n",
    "Input: A = \"\", B = \"aa\"\n",
    "Output: false"
   ]
  },
  {
   "cell_type": "markdown",
   "metadata": {},
   "source": [
    "Note:\n",
    "\n",
    "0 <= A.length <= 20000\n",
    "0 <= B.length <= 20000\n",
    "A and B consist only of lowercase letters."
   ]
  },
  {
   "cell_type": "markdown",
   "metadata": {},
   "source": [
    "https://leetcode.com/problems/buddy-strings/description/"
   ]
  },
  {
   "cell_type": "code",
   "execution_count": 16,
   "metadata": {},
   "outputs": [],
   "source": [
    "#==================Failed Solution========================================================================\n",
    "\n",
    "class Solution(object):\n",
    "    def buddyStrings(self, A, B):\n",
    "        \"\"\"\n",
    "        :type A: str\n",
    "        :type B: str\n",
    "        :rtype: bool\n",
    "        \"\"\"\n",
    "        if len(A) != len(B):\n",
    "            return False\n",
    "        elif len(A) == 0 or len(B) == 0:\n",
    "            return False\n",
    "        elif A == B:\n",
    "            first_chr = A[0]\n",
    "            for chr in A:\n",
    "                if first_chr != chr:\n",
    "                    return False\n",
    "            return True\n",
    "        else:\n",
    "            swap_position = []\n",
    "            for i in range(0,len(A)):\n",
    "                if A[i] != B[i]:\n",
    "                    swap_position.append(i)\n",
    "            if len(swap_position) == 2:\n",
    "                return A[swap_position[0]] == B[swap_position[1]] and A[swap_position[1]] == B[swap_position[0]]\n",
    "            else:\n",
    "                return False\n",
    "                \n",
    "        \n",
    "        \n",
    "        "
   ]
  },
  {
   "cell_type": "code",
   "execution_count": 21,
   "metadata": {},
   "outputs": [],
   "source": [
    "#==================Accepted Solution========================================================================\n",
    "\n",
    "class Solution(object):\n",
    "    def buddyStrings(self, A, B):\n",
    "        \"\"\"\n",
    "        :type A: str\n",
    "        :type B: str\n",
    "        :rtype: bool\n",
    "     \"\"\"\n",
    "        if len(A) != len(B):\n",
    "            return False\n",
    "        elif len(A) <= 1 or len(B) <= 1:\n",
    "            return False\n",
    "        elif A == B:\n",
    "            dict = {}\n",
    "            for chr in A:\n",
    "                if chr not in dict:\n",
    "                    dict[chr] = 1\n",
    "                else:\n",
    "                    return True #find a repeative character\n",
    "            return False    \n",
    "        else:\n",
    "            swap_position = []\n",
    "            for i in range(0,len(A)):\n",
    "                if A[i] != B[i]:\n",
    "                    swap_position.append(i)\n",
    "            if len(swap_position) == 2:\n",
    "                return A[swap_position[0]] == B[swap_position[1]] and A[swap_position[1]] == B[swap_position[0]]\n",
    "            else:\n",
    "                return False"
   ]
  },
  {
   "cell_type": "code",
   "execution_count": 22,
   "metadata": {},
   "outputs": [
    {
     "name": "stdout",
     "output_type": "stream",
     "text": [
      "False\nFalse\nFalse\nTrue\nFalse\nTrue\n"
     ]
    }
   ],
   "source": [
    "\n",
    "solution = Solution()\n",
    "print(solution.buddyStrings(\"ab\",\"bc\"))\n",
    "print(solution.buddyStrings(\"ab\",\"ab\"))\n",
    "print(solution.buddyStrings(\"aa\",\"ab\"))\n",
    "print(solution.buddyStrings(\"aaaaaaaaaabc\",\"aaaaaaaaacba\"))\n",
    "print(solution.buddyStrings(\"\",\"bc\"))\n",
    "print(solution.buddyStrings(\"aa\",\"aa\"))  \n",
    "\n",
    "\n"
   ]
  },
  {
   "cell_type": "code",
   "execution_count": null,
   "metadata": {},
   "outputs": [],
   "source": [
    "##Missing test case for repeating character\n",
    "#could have use izip so each character in both string is in pair\n",
    "#could have use set instead of dict\n",
    "class Solution(object):\n",
    "    def buddyStrings(self, A, B):\n",
    "        if len(A) != len(B): return False\n",
    "        if A == B:\n",
    "            seen = set()\n",
    "            for a in A:\n",
    "                if a in seen:\n",
    "                    return True\n",
    "                seen.add(a)\n",
    "            return False\n",
    "        else:\n",
    "            pairs = []\n",
    "            for a, b in itertools.izip(A, B):\n",
    "                if a != b:\n",
    "                    pairs.append((a, b))\n",
    "                if len(pairs) >= 3: return False\n",
    "            return len(pairs) == 2 and pairs[0] == pairs[1][::-1]"
   ]
  }
 ],
 "metadata": {
  "kernelspec": {
   "display_name": "Python 2",
   "language": "python",
   "name": "python2"
  },
  "language_info": {
   "codemirror_mode": {
    "name": "ipython",
    "version": 2
   },
   "file_extension": ".py",
   "mimetype": "text/x-python",
   "name": "python",
   "nbconvert_exporter": "python",
   "pygments_lexer": "ipython2",
   "version": "2.7.6"
  }
 },
 "nbformat": 4,
 "nbformat_minor": 0
}
