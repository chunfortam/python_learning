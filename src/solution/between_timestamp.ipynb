{
 "cells": [
  {
   "cell_type": "code",
   "execution_count": 7,
   "metadata": {
    "collapsed": true
   },
   "outputs": [],
   "source": [
    "class Solution(object):\n",
    "    def extract(self,file,start_time,end_time):\n",
    "        with open(file) as fin:\n",
    "            fout = open(\"/tmp/log_1.txt\",\"w\")\n",
    "            writing = False\n",
    "            for i,line in enumerate(fin):\n",
    "                if not writing:\n",
    "                    if start_time in line:\n",
    "                        writing = True\n",
    "                        fout.write(line)\n",
    "                else:\n",
    "                    fout.write(line)\n",
    "                    if end_time in line:\n",
    "                        break\n",
    "            fout.close()\n",
    "            "
   ]
  },
  {
   "cell_type": "code",
   "execution_count": 9,
   "metadata": {},
   "outputs": [],
   "source": [
    "solution = Solution()\n",
    "solution.extract(\"/Users/ctam/Downloads/ctam/Desktop/junk/apache-samples/error_log/error_log\",\"Sun Mar  7 17:23:53 2004\",\"Mon Mar  8 13:56:52 2004\")"
   ]
  },
  {
   "cell_type": "code",
   "execution_count": null,
   "metadata": {},
   "outputs": [],
   "source": []
  }
 ],
 "metadata": {
  "kernelspec": {
   "display_name": "Python 2",
   "language": "python",
   "name": "python2"
  },
  "language_info": {
   "codemirror_mode": {
    "name": "ipython",
    "version": 2
   },
   "file_extension": ".py",
   "mimetype": "text/x-python",
   "name": "python",
   "nbconvert_exporter": "python",
   "pygments_lexer": "ipython2",
   "version": "2.7.6"
  }
 },
 "nbformat": 4,
 "nbformat_minor": 0
}
