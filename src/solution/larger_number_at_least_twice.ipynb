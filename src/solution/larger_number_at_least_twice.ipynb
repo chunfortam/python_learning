{
 "cells": [
  {
   "cell_type": "markdown",
   "metadata": {
    "collapsed": true
   },
   "source": [
    "In a given integer array nums, there is always exactly one largest element.\n",
    "\n",
    "Find whether the largest element in the array is at least twice as much as every other number in the array.\n",
    "\n",
    "If it is, return the index of the largest element, otherwise return -1.\n",
    "\n",
    "Example 1:\n",
    "\n",
    "Input: nums = [3, 6, 1, 0]\n",
    "Output: 1\n",
    "Explanation: 6 is the largest integer, and for every other number in the array x,\n",
    "6 is more than twice as big as x.  The index of value 6 is 1, so we return 1.\n",
    " \n",
    "\n",
    "Example 2:\n",
    "\n",
    "Input: nums = [1, 2, 3, 4]\n",
    "Output: -1\n",
    "Explanation: 4 isn't at least as big as twice the value of 3, so we return -1.\n",
    " \n",
    "\n",
    "Note:\n",
    "\n",
    "nums will have a length in the range [1, 50].\n",
    "Every nums[i] will be an integer in the range [0, 99].\n",
    " \n",
    "https://leetcode.com/problems/largest-number-at-least-twice-of-others/description/"
   ]
  },
  {
   "cell_type": "code",
   "execution_count": 19,
   "metadata": {},
   "outputs": [],
   "source": [
    "class Solution(object):\n",
    "    def dominantIndex(self, nums):\n",
    "        \"\"\"\n",
    "        :type nums: List[int]\n",
    "        :rtype: int\n",
    "        \"\"\"\n",
    "        if len(nums) == 0:\n",
    "            return 0\n",
    "        current_largest = 0\n",
    "        twice_larger = True\n",
    "        for i in range(1, len(nums)):\n",
    "            if nums[i] > nums[current_largest]:\n",
    "                if nums[i] >= 2 * nums[current_largest]:\n",
    "                    twice_larger = True\n",
    "                else:\n",
    "                    twice_larger = False\n",
    "                current_largest = i\n",
    "            else:\n",
    "                if nums[current_largest] < 2 * nums[i]:\n",
    "                    twice_larger = False\n",
    "            \n",
    "                \n",
    "        if twice_larger:\n",
    "            return current_largest\n",
    "        else:\n",
    "            return -1\n",
    "                \n",
    "        "
   ]
  },
  {
   "cell_type": "code",
   "execution_count": 25,
   "metadata": {},
   "outputs": [
    {
     "data": {
      "text/plain": [
       "2"
      ]
     },
     "execution_count": 25,
     "metadata": {},
     "output_type": "execute_result"
    }
   ],
   "source": [
    "solution = Solution()\n",
    "solution.dominantIndex([1,1,3])"
   ]
  },
  {
   "cell_type": "code",
   "execution_count": null,
   "metadata": {},
   "outputs": [],
   "source": [
    "#test case [1]"
   ]
  }
 ],
 "metadata": {
  "kernelspec": {
   "display_name": "Python 2",
   "language": "python",
   "name": "python2"
  },
  "language_info": {
   "codemirror_mode": {
    "name": "ipython",
    "version": 2
   },
   "file_extension": ".py",
   "mimetype": "text/x-python",
   "name": "python",
   "nbconvert_exporter": "python",
   "pygments_lexer": "ipython2",
   "version": "2.7.6"
  }
 },
 "nbformat": 4,
 "nbformat_minor": 0
}
