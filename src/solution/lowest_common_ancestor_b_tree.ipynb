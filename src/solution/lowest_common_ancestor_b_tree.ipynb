{
 "cells": [
  {
   "cell_type": "markdown",
   "metadata": {
    "collapsed": true
   },
   "source": [
    "Given a binary search tree (BST), find the lowest common ancestor (LCA) of two given nodes in the BST.\n",
    "\n",
    "According to the definition of LCA on Wikipedia: “The lowest common ancestor is defined between two nodes p and q as the lowest node in T that has both p and q as descendants (where we allow a node to be a descen\n",
    "dant of itself).”\n",
    "\n",
    "Given binary search tree:  root = [6,2,8,0,4,7,9,null,null,3,5]\n",
    "\n",
    "        _______6______\n",
    "       /              \\\n",
    "    ___2__          ___8__\n",
    "   /      \\        /      \\\n",
    "   0      _4       7       9\n",
    "         /  \\\n",
    "         3   5\n",
    "\n",
    "Example 1:\n",
    "\n",
    "Input: root = [6,2,8,0,4,7,9,null,null,3,5], p = 2, q = 8\n",
    "\n",
    "Output: 6\n",
    "\n",
    "Explanation: The LCA of nodes 2 and 8 is 6.\n",
    "\n",
    "Example 2:\n",
    "\n",
    "\n",
    "Input: root = [6,2,8,0,4,7,9,null,null,3,5], p = 2, q = 4\n",
    "\n",
    "Output: 2\n",
    "\n",
    "Explanation: The LCA of nodes 2 and 4 is 2, since a node can be a descendant of itself\n",
    "\n",
    "according to the LCA definition.\n",
    "\n",
    "Note:\n",
    "\n",
    "All of the nodes' values will be unique.\n",
    "\n",
    "p and q are different and both values will exist in the BST."
   ]
  },
  {
   "cell_type": "code",
   "execution_count": 67,
   "metadata": {},
   "outputs": [],
   "source": [
    "# Definition for a binary tree node.\n",
    "class TreeNode(object):\n",
    "     def __init__(self, x):\n",
    "        self.val = x\n",
    "        self.left = None\n",
    "        self.right = None\n",
    "\n",
    "class Solution(object):\n",
    "    def lowestCommonAncestor(self, root, p, q):\n",
    "        \"\"\"\n",
    "        :type root: TreeNode\n",
    "        :type p: TreeNode\n",
    "        :type q: TreeNode\n",
    "        :rtype: TreeNode\n",
    "        \"\"\"\n",
    "        def findParents(parent_p,node,p):\n",
    "            if node is not None:\n",
    "                if node.val == p:\n",
    "                    return parent_p\n",
    "                else:\n",
    "                    new_parent_p = parent_p + [node]\n",
    "                    if node.left is not None:\n",
    "                        left_result = findParents(new_parent_p,node.left,p)\n",
    "                        if left_result is not None:\n",
    "                            return left_result \n",
    "                    if node.right is not None:\n",
    "                        right_result = findParents(new_parent_p,node.right,p)\n",
    "                        if right_result is not None:\n",
    "                            return right_result\n",
    "            return None\n",
    "        p_parent = findParents([],root,p.val)\n",
    "        q_parent = findParents([],root,q.val)\n",
    "        if len(p_parent) > len(q_parent):\n",
    "            diff_len = len(p_parent) - len(q_parent)\n",
    "            for node in p_parent[-diff_len:]:\n",
    "                if node.val == q.val:\n",
    "                    return node\n",
    "            p_parent = p_parent[:-diff_len]\n",
    "        if len(p_parent) < len(q_parent):\n",
    "            diff_len = len(q_parent) - len(p_parent)\n",
    "            for node in q_parent[-diff_len:]:\n",
    "                if node.val == p.val:\n",
    "                    return node\n",
    "            q_parent = q_parent[:-diff_len]\n",
    "        for i in range(0,len(p_parent)):\n",
    "            print(p_parent[i].val,q_parent[i].val)\n",
    "            if p_parent[i] != q_parent[i]:\n",
    "                return p_parent[i - 1]\n",
    "        return p_parent[-1]\n",
    " "
   ]
  },
  {
   "cell_type": "code",
   "execution_count": 68,
   "metadata": {},
   "outputs": [],
   "source": [
    ""
   ]
  },
  {
   "cell_type": "code",
   "execution_count": 70,
   "metadata": {
    "collapsed": true
   },
   "outputs": [
    {
     "name": "stdout",
     "output_type": "stream",
     "text": [
      "(1, 1)\n(2, 2)\n2\n2\n"
     ]
    }
   ],
   "source": [
    "root = TreeNode(1)\n",
    "root.left = TreeNode(2)\n",
    "root.left.left = TreeNode(3)\n",
    "root.left.right = TreeNode(4)\n",
    "solution = Solution()\n",
    "node = solution.lowestCommonAncestor(root,3,4)\n",
    "print(node.val)\n",
    "\n",
    "\n",
    "root = TreeNode(6)\n",
    "root.left = TreeNode(2)\n",
    "root.right = TreeNode(8)\n",
    "root.left.left = TreeNode(0)\n",
    "root.left.right = TreeNode(4)\n",
    "root.left.right.left = TreeNode(3)\n",
    "root.left.right.right = TreeNode(5)\n",
    "root.left.right.right.right = TreeNode(6)\n",
    "root.right.left = TreeNode(7)\n",
    "root.right.right = TreeNode(9)\n",
    "\n",
    "node = solution.lowestCommonAncestor(root,2,4)\n",
    "print(node.val)"
   ]
  },
  {
   "cell_type": "markdown",
   "metadata": {},
   "source": [
    "Why changing parent_p affect all recursive funcation?"
   ]
  },
  {
   "cell_type": "code",
   "execution_count": 45,
   "metadata": {},
   "outputs": [],
   "source": [
    "def findParents(parent_p,node,p):\n",
    "    if node is not None:\n",
    "        if node.val == p:\n",
    "            return parent_p\n",
    "        else:\n",
    "            new_parent_p = parent_p + [node]\n",
    "            if node.left is not None:\n",
    "                left_result = findParents(new_parent_p,node.left,p)\n",
    "                if left_result is not None:\n",
    "                    return left_result\n",
    "            if node.right is not None:\n",
    "                right_result = findParents(new_parent_p,node.right,p)\n",
    "                if right_result is not None:\n",
    "                    return right_result\n",
    "    return None"
   ]
  },
  {
   "cell_type": "code",
   "execution_count": null,
   "metadata": {},
   "outputs": [],
   "source": []
  }
 ],
 "metadata": {
  "kernelspec": {
   "display_name": "Python 2",
   "language": "python",
   "name": "python2"
  },
  "language_info": {
   "codemirror_mode": {
    "name": "ipython",
    "version": 2
   },
   "file_extension": ".py",
   "mimetype": "text/x-python",
   "name": "python",
   "nbconvert_exporter": "python",
   "pygments_lexer": "ipython2",
   "version": "2.7.6"
  }
 },
 "nbformat": 4,
 "nbformat_minor": 0
}
