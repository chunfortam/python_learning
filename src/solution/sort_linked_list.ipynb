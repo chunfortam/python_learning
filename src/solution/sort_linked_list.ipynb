{
 "cells": [
  {
   "cell_type": "markdown",
   "metadata": {
    "collapsed": true
   },
   "source": [
    "Sort a linked list in O(n log n) time using constant space complexity.\n",
    "\n",
    "Example 1:\n",
    "\n",
    "Input: 4->2->1->3\n",
    "\n",
    "Output: 1->2->3->4\n",
    "\n",
    "Example 2:\n",
    "\n",
    "Input: -1->5->3->4->0\n",
    "\n",
    "Output: -1->0->3->4->5"
   ]
  },
  {
   "cell_type": "code",
   "execution_count": 50,
   "metadata": {},
   "outputs": [],
   "source": [
    "# Definition for singly-linked list.\n",
    "class ListNode(object):\n",
    "    def __init__(self, x):\n",
    "        self.val = x\n",
    "        self.next = None\n",
    "\n",
    "class Solution(object):\n",
    "    def sortList(self,head):\n",
    "        if head is None:\n",
    "            return None\n",
    "        if head.next is None:\n",
    "            return head\n",
    "        pivot_head = head\n",
    "        current_pivot = pivot_head\n",
    "        while current_pivot.next is not None:\n",
    "            if current_pivot.val == current_pivot.next.val:\n",
    "                current_pivot = current_pivot.next\n",
    "            else:\n",
    "                break\n",
    "        pivot_tail = current_pivot\n",
    "        pre_pivot = None\n",
    "        post_pivot = pivot_tail\n",
    "        current = pivot_tail.next\n",
    "\n",
    "        while current is not None:\n",
    "            if current.val < pivot_tail.val:\n",
    "                temp = current.next\n",
    "                current.next = pre_pivot\n",
    "                pre_pivot = current\n",
    "                post_pivot.next = temp\n",
    "                current = temp\n",
    "            else:\n",
    "                current = current.next\n",
    "                post_pivot = post_pivot.next\n",
    "        left_head = self.sortList(pre_pivot)\n",
    "        right_head = self.sortList(pivot_tail.next)\n",
    "        left_tail = left_head\n",
    "        \n",
    "        if left_tail is not None:\n",
    "            while left_tail.next is not None:\n",
    "                left_tail = left_tail.next\n",
    "            left_tail.next = pivot_head\n",
    "        else:\n",
    "            left_head = pivot_head\n",
    "        pivot_tail.next = right_head\n",
    "        return left_head\n",
    "            \n",
    "            \n",
    "            \n",
    "            \n",
    "                    \n",
    "                \n",
    "        "
   ]
  },
  {
   "cell_type": "code",
   "execution_count": 54,
   "metadata": {},
   "outputs": [
    {
     "name": "stdout",
     "output_type": "stream",
     "text": [
      "-6\n-1\n-1\n-1\n-1\n2\n5\n10\n"
     ]
    }
   ],
   "source": [
    "solution = Solution()\n",
    "test = [-1,5,-1,-1,-1,2,10,-6]\n",
    "\n",
    "head = ListNode(test[0])\n",
    "current = head\n",
    "\n",
    "for i in test[1:]:\n",
    "    current.next = ListNode(i)\n",
    "    current = current.next\n",
    "   \n",
    "result = solution.sortList(head)\n",
    "\n",
    "while result is not None:\n",
    "    print(result.val)\n",
    "    result = result.next"
   ]
  },
  {
   "cell_type": "code",
   "execution_count": null,
   "metadata": {},
   "outputs": [],
   "source": []
  }
 ],
 "metadata": {
  "kernelspec": {
   "display_name": "Python 2",
   "language": "python",
   "name": "python2"
  },
  "language_info": {
   "codemirror_mode": {
    "name": "ipython",
    "version": 2
   },
   "file_extension": ".py",
   "mimetype": "text/x-python",
   "name": "python",
   "nbconvert_exporter": "python",
   "pygments_lexer": "ipython2",
   "version": "2.7.6"
  }
 },
 "nbformat": 4,
 "nbformat_minor": 0
}
