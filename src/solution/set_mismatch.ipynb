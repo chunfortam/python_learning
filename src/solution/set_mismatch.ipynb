{
 "cells": [
  {
   "cell_type": "markdown",
   "metadata": {
    "collapsed": true
   },
   "source": [
    "The set S originally contains numbers from 1 to n. But unfortunately, due to the data error, one of the numbers in the set got duplicated to another number in the set, which results in repetition of one number and loss of another number.\n",
    "\n",
    "Given an array nums representing the data status of this set after the error. Your task is to firstly find the number occurs twice and then find the number that is missing. Return them in the form of an array.\n",
    "\n",
    "Example 1:\n",
    "Input: nums = [1,2,2,4]\n",
    "Output: [2,3]\n",
    "Note:\n",
    "The given array size will in the range [2, 10000].\n",
    "The given array's numbers won't have any order."
   ]
  },
  {
   "cell_type": "code",
   "execution_count": 18,
   "metadata": {},
   "outputs": [],
   "source": [
    "class Solution(object):\n",
    "    def findErrorNums(self, nums):\n",
    "        \"\"\"\n",
    "        :type nums: List[int]\n",
    "        :rtype: List[int]\n",
    "        \"\"\"\n",
    "        val_set = set()\n",
    "        result = []\n",
    "        for i in range(1,len(nums) +1):\n",
    "            val_set.add(i)\n",
    "\n",
    "        for i in range(0,len(nums)):\n",
    "            if nums[i] in val_set:\n",
    "                val_set.discard(nums[i])\n",
    "            else:\n",
    "                result.append(nums[i])\n",
    "        result.append(val_set.pop())\n",
    "        return result   \n",
    "                \n",
    "                \n",
    "        "
   ]
  },
  {
   "cell_type": "code",
   "execution_count": 21,
   "metadata": {},
   "outputs": [
    {
     "data": {
      "text/plain": [
       "[2, 3]"
      ]
     },
     "execution_count": 21,
     "metadata": {},
     "output_type": "execute_result"
    }
   ],
   "source": [
    "solution = Solution()\n",
    "test = [i+1 for i in range(0,100)]\n",
    "test[10] = 99\n",
    "solution.findErrorNums(test)\n",
    "solution.findErrorNums([1,2,2,4])"
   ]
  },
  {
   "cell_type": "code",
   "execution_count": null,
   "metadata": {},
   "outputs": [],
   "source": []
  }
 ],
 "metadata": {
  "kernelspec": {
   "display_name": "Python 2",
   "language": "python",
   "name": "python2"
  },
  "language_info": {
   "codemirror_mode": {
    "name": "ipython",
    "version": 2
   },
   "file_extension": ".py",
   "mimetype": "text/x-python",
   "name": "python",
   "nbconvert_exporter": "python",
   "pygments_lexer": "ipython2",
   "version": "2.7.6"
  }
 },
 "nbformat": 4,
 "nbformat_minor": 0
}
