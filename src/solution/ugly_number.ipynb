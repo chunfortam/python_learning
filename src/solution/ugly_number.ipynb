{
 "cells": [
  {
   "cell_type": "markdown",
   "metadata": {
    "collapsed": true
   },
   "source": [
    "Write a program to check whether a given number is an ugly number.\n",
    "\n",
    "Ugly numbers are positive numbers whose prime factors only include 2, 3, 5.\n",
    "\n",
    "Example 1:\n",
    "\n",
    "Input: 6\n",
    "\n",
    "Output: true\n",
    "\n",
    "Explanation: 6 = 2 × 3\n",
    "\n",
    "Example 2:\n",
    "\n",
    "Input: 8\n",
    "\n",
    "Output: true\n",
    "\n",
    "Explanation: 8 = 2 × 2 × 2\n",
    "\n",
    "Example 3:\n",
    "\n",
    "Input: 14\n",
    "\n",
    "Output: false \n",
    "\n",
    "Explanation: 14 is not ugly since it includes another prime factor 7."
   ]
  },
  {
   "cell_type": "code",
   "execution_count": 3,
   "metadata": {},
   "outputs": [],
   "source": [
    "class Solution(object):\n",
    "    def isUgly(self, num):\n",
    "        \"\"\"\n",
    "        :type num: int\n",
    "        :rtype: bool\n",
    "        \"\"\"\n",
    "        done = False\n",
    "        while not done:\n",
    "            if num < 0:\n",
    "                return False\n",
    "            elif num == 1:\n",
    "                return True\n",
    "            elif num % 2 == 0:\n",
    "                factor = 2\n",
    "            elif num % 3 == 0:\n",
    "                factor = 3\n",
    "            elif num % 5 == 0:\n",
    "                factor = 5\n",
    "            else:\n",
    "                return False\n",
    "            num = num /factor\n",
    "            "
   ]
  },
  {
   "cell_type": "code",
   "execution_count": 4,
   "metadata": {},
   "outputs": [
    {
     "data": {
      "text/plain": [
       "False"
      ]
     },
     "execution_count": 4,
     "metadata": {},
     "output_type": "execute_result"
    }
   ],
   "source": [
    "solution = Solution()\n",
    "solution.isUgly(264)"
   ]
  },
  {
   "cell_type": "markdown",
   "metadata": {},
   "source": [
    "#https://en.wikipedia.org/wiki/Divisibility_rule\n",
    "\n",
    "instead of if loop, do for f in 1,2,3\n",
    "\n",
    "% seems to be an expensive operation as well\n",
    "\n",
    "divmod?"
   ]
  },
  {
   "cell_type": "code",
   "execution_count": null,
   "metadata": {},
   "outputs": [],
   "source": []
  }
 ],
 "metadata": {
  "kernelspec": {
   "display_name": "Python 2",
   "language": "python",
   "name": "python2"
  },
  "language_info": {
   "codemirror_mode": {
    "name": "ipython",
    "version": 2
   },
   "file_extension": ".py",
   "mimetype": "text/x-python",
   "name": "python",
   "nbconvert_exporter": "python",
   "pygments_lexer": "ipython2",
   "version": "2.7.6"
  }
 },
 "nbformat": 4,
 "nbformat_minor": 0
}
