{
 "cells": [
  {
   "cell_type": "markdown",
   "metadata": {
    "collapsed": true
   },
   "source": [
    "Given a non-empty list of words, return the k most frequent elements.\n",
    "\n",
    "Your answer should be sorted by frequency from highest to lowest. If two words have the same frequency, then the word with the lower alphabetical order comes first.\n",
    "\n",
    "Example 1:\n",
    "Input: [\"i\", \"love\", \"leetcode\", \"i\", \"love\", \"coding\"], k = 2\n",
    "Output: [\"i\", \"love\"]\n",
    "Explanation: \"i\" and \"love\" are the two most frequent words.\n",
    "Note that \"i\" comes before \"love\" due to a lower alphabetical order.\n",
    "Example 2:\n",
    "Input: [\"the\", \"day\", \"is\", \"sunny\", \"the\", \"the\", \"the\", \"sunny\", \"is\", \"is\"], k = 4\n",
    "Output: [\"the\", \"is\", \"sunny\", \"day\"]\n",
    "Explanation: \"the\", \"is\", \"sunny\" and \"day\" are the four most frequent words,\n",
    "with the number of occurrence being 4, 3, 2 and 1 respectively.\n",
    "Note:\n",
    "You may assume k is always valid, 1 ≤ k ≤ number of unique elements.\n",
    "Input words contain only lowercase letters.\n",
    "Follow up:\n",
    "Try to solve it in O(n log k) time and O(n) extra space."
   ]
  },
  {
   "cell_type": "code",
   "execution_count": 26,
   "metadata": {},
   "outputs": [],
   "source": [
    "class Solution(object):\n",
    "    def topKFrequent(self, words, k):\n",
    "        \"\"\"\n",
    "        :type words: List[str]\n",
    "        :type k: int\n",
    "        :rtype: List[str]\n",
    "        \"\"\"\n",
    "        word_dict = {}\n",
    "        for word in words:\n",
    "            if word not in word_dict:\n",
    "                word_dict[word] = 1\n",
    "            else:\n",
    "                word_dict[word] += 1\n",
    "        result = [key for key,value in sorted(word_dict.items(),key=lambda kv:(-kv[1],kv[0]),reverse=False)]\n",
    "        return result[:k]"
   ]
  },
  {
   "cell_type": "code",
   "execution_count": 27,
   "metadata": {},
   "outputs": [
    {
     "data": {
      "text/plain": [
       "['i', 'love']"
      ]
     },
     "execution_count": 27,
     "metadata": {},
     "output_type": "execute_result"
    }
   ],
   "source": [
    "solution = Solution()\n",
    "solution.topKFrequent([\"i\", \"love\", \"leetcode\", \"i\", \"love\", \"coding\"],2)"
   ]
  },
  {
   "cell_type": "code",
   "execution_count": 131,
   "metadata": {},
   "outputs": [],
   "source": [
    "###heap sort\n",
    "class TreeNode(object):\n",
    "    def __init__(self,num):\n",
    "        self.val = num\n",
    "        self.left = None\n",
    "        self.right = None\n",
    "class Sorting(object):\n",
    "    def heapsort(self,input):\n",
    "        if len(input) == 0:\n",
    "            return None\n",
    "        def createHeap():\n",
    "            head = TreeNode(input[0])\n",
    "            node_list = []\n",
    "            current = head\n",
    "            for i in input[1:]:\n",
    "                done = False\n",
    "                while not done:\n",
    "                    if current.left is None:\n",
    "                        current.left = TreeNode(i)\n",
    "                        node_list.append(current.left)\n",
    "                        done = True\n",
    "                    elif current.right is None:\n",
    "                        current.right = TreeNode(i)\n",
    "                        node_list.append(current.right)\n",
    "                        done = True\n",
    "                        current = node_list[0]\n",
    "                        node_list = node_list[1:]\n",
    "\n",
    "            return head\n",
    "        def printHeap(head):\n",
    "            node_list = [head,None]\n",
    "            result = []\n",
    "            while len(node_list) != 0:\n",
    "                current = node_list[0]\n",
    "                if current is not None:\n",
    "                    result.append(current.val)\n",
    "                    if current.left is not None:\n",
    "                        node_list.append(current.left)\n",
    "                    if current.right is not None:\n",
    "                        node_list.append(current.right)\n",
    "                else:\n",
    "                    print(result)\n",
    "                    result = []\n",
    "                    if len(node_list) == 1:\n",
    "                        break\n",
    "                    node_list.append(None)\n",
    "                node_list = node_list[1:]\n",
    "        def maxHeapify(head):\n",
    "            nodes_list = [head]\n",
    "            index = 0\n",
    "            parent_nodes = []\n",
    "            last_parent = head\n",
    "            \n",
    "            if head.left is None and head.right is None:\n",
    "                return head,None\n",
    "                        \n",
    "            while index < len(nodes_list):\n",
    "                current = nodes_list[index]\n",
    "                if current.left is not None or current.right is not None:\n",
    "                    parent_nodes.append(current)\n",
    "                if current.left is not None:\n",
    "                    nodes_list.append(current.left)\n",
    "                if current.right is not None:\n",
    "                    nodes_list.append(current.right)\n",
    "                index += 1\n",
    "            last_parent = parent_nodes[-1]\n",
    "            while len(parent_nodes) != 0:\n",
    "                current = parent_nodes.pop()\n",
    "                max_node = current\n",
    "                if current.left is not None:\n",
    "                    if current.left.val > max_node.val:\n",
    "                        max_node = current.left\n",
    "                if current.right is not None:\n",
    "                    if current.right.val > max_node.val:\n",
    "                        max_node = current.right\n",
    "                if max_node != current:\n",
    "                    temp = current.val\n",
    "                    current.val = max_node.val\n",
    "                    max_node.val = temp\n",
    "                    parent_nodes.append(max_node)\n",
    "            return head,last_parent\n",
    "        def removeNode(head,target):\n",
    "            if target is None:\n",
    "                return None\n",
    "            if target.right is not None:\n",
    "                remove = target.right\n",
    "                target.right = None\n",
    "            elif target.left is not None:\n",
    "                remove = target.left\n",
    "                target.left = None\n",
    "            else:\n",
    "                None\n",
    "            temp = remove.val\n",
    "            remove.val = head.val\n",
    "            head.val = temp\n",
    "            return head\n",
    "        def sort(head,k):\n",
    "            result = []\n",
    "            for i in range(0,k):\n",
    "                head, last = maxHeapify(head)\n",
    "                result.append(head.val)\n",
    "                head = removeNode(head,last)\n",
    "            return result\n",
    "                        \n",
    "        \n",
    "        heap = createHeap()\n",
    "        result = maxHeapify(heap)[0]\n",
    "        result = sort(heap,len(input))\n",
    "        print(result)\n",
    "        \n",
    "            \n",
    "                \n",
    "            \n",
    "                \n",
    "                    \n",
    "            \n",
    "                \n",
    "        \n",
    "        "
   ]
  },
  {
   "cell_type": "code",
   "execution_count": 134,
   "metadata": {},
   "outputs": [
    {
     "name": "stdout",
     "output_type": "stream",
     "text": [
      "[8, 7, 6, 5, 4, 3, 2, 1]\n"
     ]
    }
   ],
   "source": [
    "sorting = Sorting()\n",
    "sorting.heapsort([8,7,6,5,4,3,2,1])"
   ]
  },
  {
   "cell_type": "code",
   "execution_count": 40,
   "metadata": {},
   "outputs": [],
   "source": []
  },
  {
   "cell_type": "code",
   "execution_count": null,
   "metadata": {},
   "outputs": [],
   "source": []
  }
 ],
 "metadata": {
  "kernelspec": {
   "display_name": "Python 2",
   "language": "python",
   "name": "python2"
  },
  "language_info": {
   "codemirror_mode": {
    "name": "ipython",
    "version": 2
   },
   "file_extension": ".py",
   "mimetype": "text/x-python",
   "name": "python",
   "nbconvert_exporter": "python",
   "pygments_lexer": "ipython2",
   "version": "2.7.6"
  }
 },
 "nbformat": 4,
 "nbformat_minor": 0
}
