{
 "cells": [
  {
   "cell_type": "markdown",
   "metadata": {
    "collapsed": true
   },
   "source": [
    "A 3 x 3 magic square is a 3 x 3 grid filled with distinct numbers from 1 to 9 such that each row, column, and both diagonals all have the same sum.\n",
    "\n",
    "Given an grid of integers, how many 3 x 3 \"magic square\" subgrids are there?  (Each subgrid is contiguous).\n",
    "\n",
    " \n",
    "\n",
    "Example 1:\n",
    "\n",
    "Input: [[4,3,8,4],\n",
    "        [9,5,1,9],\n",
    "        [2,7,6,2]]\n",
    "Output: 1\n",
    "Explanation: \n",
    "\n",
    "The following subgrid is a 3 x 3 magic square:\n",
    "\n",
    "438\n",
    "\n",
    "951\n",
    "\n",
    "276\n",
    "\n",
    "while this one is not:\n",
    "\n",
    "384\n",
    "\n",
    "519\n",
    "\n",
    "762\n",
    "\n",
    "\n",
    "In total, there is only one magic square inside the given grid.\n",
    "\n",
    "Note:\n",
    "\n",
    "1 <= grid.length <= 10\n",
    "1 <= grid[0].length <= 10\n",
    "0 <= grid[i][j] <= 15"
   ]
  },
  {
   "cell_type": "code",
   "execution_count": 52,
   "metadata": {},
   "outputs": [],
   "source": [
    "class Solution(object):\n",
    "    def numMagicSquaresInside(self, grid):\n",
    "        \"\"\"\n",
    "        :type grid: List[List[int]]\n",
    "        :rtype: int\n",
    "        \"\"\"\n",
    "        def checkMagicSqures(self,square):\n",
    "            \n",
    "            distinct = [False for i in range(0,9)]\n",
    "            for row in square:\n",
    "                for column in row:\n",
    "                    if 1 <= column <=9 :\n",
    "                        if not distinct[column - 1 ]:\n",
    "                            distinct[column - 1 ] = True\n",
    "                        else:\n",
    "                            return False\n",
    "                    else:\n",
    "                        return False\n",
    "            sum_of_row = set()\n",
    "            for row in square:\n",
    "                temp_sum = 0\n",
    "                for column in row:\n",
    "                    temp_sum += column\n",
    "                sum_of_row.add(temp_sum)\n",
    "            if len(sum_of_row) != 1:\n",
    "                return False\n",
    "            sum_of_column = set()\n",
    "            for i in range(0,2):\n",
    "                temp_sum = 0\n",
    "                for row in square:\n",
    "                    temp_sum += row[i]\n",
    "                sum_of_column.add(temp_sum)\n",
    "            if len(sum_of_column) != 1:\n",
    "                return False\n",
    "            sum_of_diagonal_1 = square[0][0] + square[1][1] + square[2][2]\n",
    "            sum_of_diagonal_2 = square[0][2] + square[1][1] + square[2][0]\n",
    "            if sum_of_diagonal_1 != sum_of_diagonal_2:\n",
    "                return False\n",
    "            return True\n",
    "        \n",
    "        row_index = 3\n",
    "        column_index = 3\n",
    "        num_of_square = 0\n",
    "        \n",
    "        while row_index <= len(grid) and column_index <= len(grid[0]):\n",
    "            square = []\n",
    "            for i in range(row_index -3,row_index):\n",
    "                square.append(grid[i][column_index-3:column_index])\n",
    "            if checkMagicSqures(self,square):\n",
    "                num_of_square += 1\n",
    "            if column_index + 1 > len(grid[0]):\n",
    "                row_index += 1\n",
    "                column_index = 3\n",
    "            else:\n",
    "                column_index += 1\n",
    "        return num_of_square\n",
    "                \n",
    "        \n",
    "        "
   ]
  },
  {
   "cell_type": "code",
   "execution_count": 53,
   "metadata": {},
   "outputs": [
    {
     "data": {
      "text/plain": [
       "0"
      ]
     },
     "execution_count": 53,
     "metadata": {},
     "output_type": "execute_result"
    }
   ],
   "source": [
    "solution = Solution()\n",
    "#solution.numMagicSquaresInside([[4,3,8,4],[9,5,1,9],[2,7,6,2]])\n",
    "solution.numMagicSquaresInside([[4,3,18],[9,5,1],[2,7,46]])"
   ]
  },
  {
   "cell_type": "code",
   "execution_count": null,
   "metadata": {},
   "outputs": [],
   "source": []
  }
 ],
 "metadata": {
  "kernelspec": {
   "display_name": "Python 2",
   "language": "python",
   "name": "python2"
  },
  "language_info": {
   "codemirror_mode": {
    "name": "ipython",
    "version": 2
   },
   "file_extension": ".py",
   "mimetype": "text/x-python",
   "name": "python",
   "nbconvert_exporter": "python",
   "pygments_lexer": "ipython2",
   "version": "2.7.6"
  }
 },
 "nbformat": 4,
 "nbformat_minor": 0
}
