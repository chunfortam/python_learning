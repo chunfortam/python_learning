{
 "cells": [
  {
   "cell_type": "markdown",
   "metadata": {
    "collapsed": true
   },
   "source": [
    "https://leetcode.com/problems/reverse-integer/description/\n",
    "\n",
    "Given a 32-bit signed integer, reverse digits of an integer.\n",
    "\n",
    "Example 1:\n",
    "\n",
    "Input: 123\n",
    "Output: 321\n",
    "\n",
    "Example 2:\n",
    "\n",
    "Input: -123\n",
    "Output: -321\n",
    "\n",
    "Example 3:\n",
    "\n",
    "Input: 120\n",
    "Output: 21\n",
    "\n",
    "Note:\n",
    "Assume we are dealing with an environment which could only store integers within the 32-bit signed integer range: [−2^31,  2^31 − 1]. For the purpose of this problem, assume that your function returns 0 when the reversed integer overflows."
   ]
  },
  {
   "cell_type": "code",
   "execution_count": 28,
   "metadata": {},
   "outputs": [],
   "source": [
    "class Solution(object):\n",
    "    def reverse(self, x):\n",
    "        \"\"\"\n",
    "        :type x: int\n",
    "        :rtype: int\n",
    "        \"\"\"\n",
    "        str_x = str(x)\n",
    "        negative = False\n",
    "        if str_x[0] == \"-\":\n",
    "            str_x = str_x[1:]\n",
    "            negative = True\n",
    "        reverse_str_x = str_x[::-1]\n",
    "        reverse_int_x = int(reverse_str_x)\n",
    "        if negative:\n",
    "            reverse_int_x = reverse_int_x * -1\n",
    "        if reverse_int_x > (2**31) -1 or reverse_int_x < -(2**31) :\n",
    "            return 0\n",
    "\n",
    "        return reverse_int_x"
   ]
  },
  {
   "cell_type": "code",
   "execution_count": 31,
   "metadata": {
    "collapsed": false
   },
   "outputs": [
    {
     "name": "stdout",
     "output_type": "stream",
     "text": [
      "321\n-321\n21\n0\n0\n0\n0\n"
     ]
    }
   ],
   "source": [
    "solution = Solution()\n",
    "print(solution.reverse(123))\n",
    "print(solution.reverse(-123))\n",
    "print(solution.reverse(120))\n",
    "print(solution.reverse(-(2**32)))\n",
    "print(solution.reverse(8463847412)) ##output of 2^31\n",
    "print(solution.reverse(-9463847412)) ## output of -2^31 - 1"
   ]
  },
  {
   "cell_type": "code",
   "execution_count": 8,
   "metadata": {},
   "outputs": [],
   "source": [
    "##output overflow instead of input 9646324351"
   ]
  },
  {
   "cell_type": "code",
   "execution_count": null,
   "metadata": {},
   "outputs": [],
   "source": []
  }
 ],
 "metadata": {
  "kernelspec": {
   "display_name": "Python 2",
   "language": "python",
   "name": "python2"
  },
  "language_info": {
   "codemirror_mode": {
    "name": "ipython",
    "version": 2
   },
   "file_extension": ".py",
   "mimetype": "text/x-python",
   "name": "python",
   "nbconvert_exporter": "python",
   "pygments_lexer": "ipython2",
   "version": "2.7.6"
  }
 },
 "nbformat": 4,
 "nbformat_minor": 0
}
