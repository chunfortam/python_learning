{
 "cells": [
  {
   "cell_type": "markdown",
   "metadata": {
    "collapsed": true
   },
   "source": [
    "Implement a MapSum class with insert, and sum methods.\n",
    "\n",
    "For the method insert, you'll be given a pair of (string, integer). The string represents the key and the integer represents the value. If the key already existed, then the original key-value pair will be overridden to the new one.\n",
    "\n",
    "For the method sum, you'll be given a string representing the prefix, and you need to return the sum of all the pairs' value whose key starts with the prefix.\n",
    "\n",
    "Example 1:\n",
    "Input: insert(\"apple\", 3), Output: Null\n",
    "Input: sum(\"ap\"), Output: 3\n",
    "Input: insert(\"app\", 2), Output: Null\n",
    "Input: sum(\"ap\"), Output: 5"
   ]
  },
  {
   "cell_type": "code",
   "execution_count": 1,
   "metadata": {},
   "outputs": [],
   "source": [
    "class TreeNode(object):\n",
    "    def __init__(self,prefix,sum):\n",
    "        self.prefix = prefix\n",
    "        self.sum = sum\n",
    "        self.children = {}\n",
    "\n",
    "class MapSum(object):\n",
    "\n",
    "    def __init__(self):\n",
    "        self.head = None\n",
    "\n",
    "\n",
    "    def insert(self, key, val):\n",
    "        \"\"\"\n",
    "        :type key: str\n",
    "        :type val: int\n",
    "        :rtype: void\n",
    "        \"\"\"\n",
    "        current = head\n",
    "        atHead = False\n",
    "        \n",
    "        key_chrs = list(key)\n",
    "        inserting = False\n",
    "        insert_index = 0\n",
    "        \n",
    "        for i in range(0,len(key_chrs)):\n",
    "            if key_chrs[i] != current.prefix:\n",
    "                inserting = True\n",
    "                insert_index = i\n",
    "                break\n",
    "            else:\n",
    "                if key_chrs[i] in current.children:\n",
    "                    current = current.children[key_chrs[i]]\n",
    "                else:\n",
    "                    inserting = True\n",
    "                    insert_index = i\n",
    "                    break\n",
    "        \n",
    "        if inserting:\n",
    "            for i in range(insert_index,len(key_chrs)):\n",
    "                        \n",
    "        \n",
    "            \n",
    "\n",
    "\n",
    "    def sum(self, prefix):\n",
    "        \"\"\"\n",
    "        :type prefix: str\n",
    "        :rtype: int\n",
    "        \"\"\"\n",
    "\n",
    "\n",
    "\n",
    "# Your MapSum object will be instantiated and called as such:\n",
    "# obj = MapSum()\n",
    "# obj.insert(key,val)\n",
    "# param_2 = obj.sum(prefix)"
   ]
  },
  {
   "cell_type": "code",
   "execution_count": null,
   "metadata": {},
   "outputs": [],
   "source": []
  }
 ],
 "metadata": {
  "kernelspec": {
   "display_name": "Python 2",
   "language": "python",
   "name": "python2"
  },
  "language_info": {
   "codemirror_mode": {
    "name": "ipython",
    "version": 2
   },
   "file_extension": ".py",
   "mimetype": "text/x-python",
   "name": "python",
   "nbconvert_exporter": "python",
   "pygments_lexer": "ipython2",
   "version": "2.7.6"
  }
 },
 "nbformat": 4,
 "nbformat_minor": 0
}
