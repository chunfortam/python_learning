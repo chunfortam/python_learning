{
 "cells": [
  {
   "cell_type": "markdown",
   "metadata": {
    "collapsed": true
   },
   "source": [
    "Example 1:\n",
    "\n",
    "Input: 100\n",
    "\n",
    "Output: \"202\"\n",
    "\n",
    "Example 2:\n",
    "\n",
    "Input: -7\n",
    "\n",
    "Output: \"-10\"\n",
    "\n",
    "Note: The input will be in range of [-1e7, 1e7].\n"
   ]
  },
  {
   "cell_type": "code",
   "execution_count": 30,
   "metadata": {},
   "outputs": [],
   "source": [
    "class Solution(object):\n",
    "    def convertToBase7(self, num):\n",
    "        \"\"\"\n",
    "        :type num: int\n",
    "        :rtype: str\n",
    "        \"\"\"\n",
    "        \n",
    "            \n",
    "        result = \"\"\n",
    "        if num < 0:\n",
    "            result+=\"-\"\n",
    "            num *= -1\n",
    "        biggest_diggit = 0\n",
    "        div_num = num / 7 ** biggest_diggit\n",
    "        while div_num >= 7:\n",
    "            biggest_diggit += 1\n",
    "            div_num = num / 7 ** biggest_diggit\n",
    "        while biggest_diggit != 0:\n",
    "\n",
    "            result+=str(num / 7 ** biggest_diggit)\n",
    "            num = num % (7 ** biggest_diggit)\n",
    "            biggest_diggit -= 1\n",
    "        result+=str(num)\n",
    "        return result"
   ]
  },
  {
   "cell_type": "code",
   "execution_count": 33,
   "metadata": {},
   "outputs": [
    {
     "data": {
      "text/plain": [
       "'-66'"
      ]
     },
     "execution_count": 33,
     "metadata": {},
     "output_type": "execute_result"
    }
   ],
   "source": [
    "solution = Solution()\n",
    "solution.convertToBase7(100)\n",
    "solution.convertToBase7(-48)"
   ]
  },
  {
   "cell_type": "code",
   "execution_count": null,
   "metadata": {},
   "outputs": [],
   "source": []
  }
 ],
 "metadata": {
  "kernelspec": {
   "display_name": "Python 2",
   "language": "python",
   "name": "python2"
  },
  "language_info": {
   "codemirror_mode": {
    "name": "ipython",
    "version": 2
   },
   "file_extension": ".py",
   "mimetype": "text/x-python",
   "name": "python",
   "nbconvert_exporter": "python",
   "pygments_lexer": "ipython2",
   "version": "2.7.6"
  }
 },
 "nbformat": 4,
 "nbformat_minor": 0
}
