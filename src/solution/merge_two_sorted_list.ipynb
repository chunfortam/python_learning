{
 "cells": [
  {
   "cell_type": "markdown",
   "metadata": {
    "collapsed": true
   },
   "source": [
    "Merge two sorted linked lists and return it as a new list. The new list should be made by splicing \n",
    "\n",
    "together the nodes of the first two lists.\n",
    "\n",
    "Example:\n",
    "\n",
    "Input: 1->2->4, 1->3->4\n",
    "\n",
    "Output: 1->1->2->3->4->4"
   ]
  },
  {
   "cell_type": "code",
   "execution_count": 9,
   "metadata": {},
   "outputs": [],
   "source": [
    "# Definition for singly-linked list.\n",
    "class ListNode(object):\n",
    "     def __init__(self, x):\n",
    "         self.val = x\n",
    "         self.next = None\n",
    "\n",
    "class Solution(object):\n",
    "    def mergeTwoLists(self, l1, l2):\n",
    "        \"\"\"\n",
    "        :type l1: ListNode\n",
    "        :type l2: ListNode\n",
    "        :rtype: ListNode\n",
    "        \"\"\"\n",
    "        if l1 is None and l2 is None:\n",
    "            return None\n",
    "        if l1 is None:\n",
    "            return l2\n",
    "        if l2 is None:\n",
    "            return l1\n",
    "        \n",
    "        if l1.val < l2.val:\n",
    "            head = l1\n",
    "            current_l1 = head.next\n",
    "            current_l2 = l2\n",
    "        else:\n",
    "            head = l2\n",
    "            current_l1 = l1\n",
    "            current_l2 = head.next\n",
    "        \n",
    "        current_head = head\n",
    "        \n",
    "        while current_l1 is not None and current_l2 is not None:\n",
    "            if current_l1.val < current_l2.val:\n",
    "                current_head.next = current_l1\n",
    "                current_head = current_head.next\n",
    "                current_l1 = current_l1.next\n",
    "            else:\n",
    "                current_head.next = current_l2\n",
    "                current_head = current_head.next\n",
    "                current_l2 = current_l2.next\n",
    "        if current_l2 is not None:\n",
    "            current_head.next = current_l2\n",
    "        if current_l1 is not None:\n",
    "            current_head.next = current_l1\n",
    "        return head\n",
    "        "
   ]
  },
  {
   "cell_type": "code",
   "execution_count": 12,
   "metadata": {},
   "outputs": [
    {
     "name": "stdout",
     "output_type": "stream",
     "text": [
      "4\n4\n5\n6\n9\n"
     ]
    }
   ],
   "source": [
    "solution = Solution()\n",
    "root_1 = ListNode(4)\n",
    "root_1.next = ListNode(4)\n",
    "root_1.next.next = ListNode(5)\n",
    "\n",
    "root_2 = ListNode(6)\n",
    "root_2.next = ListNode(9)\n",
    "result = solution.mergeTwoLists(root_1,root_2)\n",
    "while result is not None:\n",
    "    print(result.val)\n",
    "    result = result.next"
   ]
  },
  {
   "cell_type": "code",
   "execution_count": 10,
   "metadata": {},
   "outputs": [],
   "source": []
  },
  {
   "cell_type": "code",
   "execution_count": null,
   "metadata": {},
   "outputs": [],
   "source": []
  }
 ],
 "metadata": {
  "kernelspec": {
   "display_name": "Python 2",
   "language": "python",
   "name": "python2"
  },
  "language_info": {
   "codemirror_mode": {
    "name": "ipython",
    "version": 2
   },
   "file_extension": ".py",
   "mimetype": "text/x-python",
   "name": "python",
   "nbconvert_exporter": "python",
   "pygments_lexer": "ipython2",
   "version": "2.7.6"
  }
 },
 "nbformat": 4,
 "nbformat_minor": 0
}
