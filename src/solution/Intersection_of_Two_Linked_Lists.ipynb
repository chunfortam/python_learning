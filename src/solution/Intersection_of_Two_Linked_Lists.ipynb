{
 "cells": [
  {
   "cell_type": "markdown",
   "metadata": {
    "collapsed": true
   },
   "source": [
    "Write a program to find the node at which the intersection of two singly linked lists begins.\n",
    "\n",
    "\n",
    "For example, the following two linked lists:\n",
    "\n",
    "A:          a1 → a2\n",
    "                   ↘\n",
    "                   c1 → c2 → c3\n",
    "                   ↗\n",
    "B:     b1 → b2 → b3\n",
    "begin to intersect at node c1.\n",
    "\n",
    "\n",
    "Notes:\n",
    "\n",
    "If the two linked lists have no intersection at all, return null.\n",
    "The linked lists must retain their original structure after the function returns.\n",
    "You may assume there are no cycles anywhere in the entire linked structure.\n",
    "Your code should preferably run in O(n) time and use only O(1) memory.\n"
   ]
  },
  {
   "cell_type": "code",
   "execution_count": 25,
   "metadata": {},
   "outputs": [],
   "source": [
    "# Definition for singly-linked list.\n",
    "import math\n",
    "class ListNode(object):\n",
    "    def __init__(self, x):\n",
    "        self.val = x\n",
    "        self.next = None\n",
    "\n",
    "class Solution(object):\n",
    "    def getIntersectionNode(self, headA, headB):\n",
    "        \"\"\"\n",
    "        :type head1, head1: ListNode\n",
    "        :rtype: ListNode\n",
    "        \"\"\"\n",
    "\n",
    "        len_A = 0\n",
    "        current = headA\n",
    "        while current is not None:\n",
    "            len_A +=1\n",
    "            current = current.next\n",
    "\n",
    "        len_B = 0\n",
    "        current = headB\n",
    "        while current is not None:\n",
    "            len_B +=1\n",
    "            current = current.next\n",
    "            \n",
    "        A_longer = True    \n",
    "        if len_B > len_A:\n",
    "            A_longer = False\n",
    "        \n",
    "        currentA = headA\n",
    "        currentB = headB\n",
    "        if A_longer:\n",
    "            len_diff = len_A-len_B\n",
    "            for x in range(0, len_diff):\n",
    "                currentA = currentA.next\n",
    "        else:\n",
    "            len_diff = len_B-len_A\n",
    "            for x in range(0, len_diff):\n",
    "                currentB = currentB.next\n",
    "        while currentA is not None and currentB is not None:\n",
    "            if currentA == currentB:\n",
    "                return currentA\n",
    "            else:\n",
    "                currentA = currentA.next\n",
    "                currentB = currentB.next\n",
    "            \n",
    "        "
   ]
  },
  {
   "cell_type": "code",
   "execution_count": 26,
   "metadata": {},
   "outputs": [
    {
     "name": "stdout",
     "output_type": "stream",
     "text": [
      "3\n"
     ]
    }
   ],
   "source": [
    "common_head = ListNode(3)\n",
    "common_head.next = ListNode(4)\n",
    "common_head.next.next = ListNode(5)\n",
    "\n",
    "a_head = ListNode(0)\n",
    "a_head.next = ListNode(1)\n",
    "a_head.next.next = ListNode(4)\n",
    "a_head.next.next.next = common_head\n",
    "\n",
    "b_head = ListNode(-2)\n",
    "b_head.next = ListNode(1)\n",
    "b_head.next.next = common_head\n",
    "\n",
    "solution = Solution()\n",
    "print(solution.getIntersectionNode(a_head,b_head).val)"
   ]
  },
  {
   "cell_type": "code",
   "execution_count": null,
   "metadata": {},
   "outputs": [],
   "source": []
  }
 ],
 "metadata": {
  "kernelspec": {
   "display_name": "Python 2",
   "language": "python",
   "name": "python2"
  },
  "language_info": {
   "codemirror_mode": {
    "name": "ipython",
    "version": 2
   },
   "file_extension": ".py",
   "mimetype": "text/x-python",
   "name": "python",
   "nbconvert_exporter": "python",
   "pygments_lexer": "ipython2",
   "version": "2.7.6"
  }
 },
 "nbformat": 4,
 "nbformat_minor": 0
}
