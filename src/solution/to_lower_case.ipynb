{
 "cells": [
  {
   "cell_type": "markdown",
   "metadata": {
    "collapsed": true
   },
   "source": [
    "Example 1:\n",
    "\n",
    "Input: \"Hello\"\n",
    "Output: \"hello\"\n",
    "Example 2:\n",
    "\n",
    "Input: \"here\"\n",
    "Output: \"here\"\n",
    "Example 3:\n",
    "\n",
    "Input: \"LOVELY\"\n",
    "Output: \"lovely\""
   ]
  },
  {
   "cell_type": "code",
   "execution_count": 5,
   "metadata": {},
   "outputs": [],
   "source": [
    "class Solution(object):\n",
    "    def toLowerCase(self, str):\n",
    "        \"\"\"\n",
    "        :type str: str\n",
    "        :rtype: str\n",
    "        \"\"\"\n",
    "        char_list = list(str)\n",
    "        for i in range(0,len(char_list)):\n",
    "            ascii_code = ord(char_list[i])\n",
    "            if 65 <= ascii_code <=90:\n",
    "                char_list[i] = chr(ascii_code + 32)\n",
    "        return \"\".join(char_list)"
   ]
  },
  {
   "cell_type": "code",
   "execution_count": 12,
   "metadata": {},
   "outputs": [
    {
     "data": {
      "text/plain": [
       "''"
      ]
     },
     "execution_count": 12,
     "metadata": {},
     "output_type": "execute_result"
    }
   ],
   "source": [
    "solution = Solution()\n",
    "solution.toLowerCase(\"\")"
   ]
  },
  {
   "cell_type": "code",
   "execution_count": null,
   "metadata": {},
   "outputs": [],
   "source": []
  }
 ],
 "metadata": {
  "kernelspec": {
   "display_name": "Python 2",
   "language": "python",
   "name": "python2"
  },
  "language_info": {
   "codemirror_mode": {
    "name": "ipython",
    "version": 2
   },
   "file_extension": ".py",
   "mimetype": "text/x-python",
   "name": "python",
   "nbconvert_exporter": "python",
   "pygments_lexer": "ipython2",
   "version": "2.7.6"
  }
 },
 "nbformat": 4,
 "nbformat_minor": 0
}
