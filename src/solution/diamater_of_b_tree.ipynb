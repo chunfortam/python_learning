{
 "cells": [
  {
   "cell_type": "markdown",
   "metadata": {
    "collapsed": true
   },
   "source": [
    "Given a binary tree, you need to compute the length of the diameter of the tree. The diameter of a binary tree is the length of the longest path between any two nodes in a tree. This path may or may not pass through the root.\n",
    "\n",
    "Example:\n",
    "\n",
    "Given a binary tree \n",
    "\n",
    "          1\n",
    "\n",
    "         / \\\n",
    "\n",
    "        2   3\n",
    "\n",
    "       / \\     \n",
    "\n",
    "      4   5    \n",
    "\n",
    "Return 3, which is the length of the path [4,2,1,3] or [5,2,1,3].\n",
    "\n",
    "\n",
    "Note: The length of path between two nodes is represented by the number of edges between them."
   ]
  },
  {
   "cell_type": "code",
   "execution_count": 10,
   "metadata": {},
   "outputs": [],
   "source": [
    "# Definition for a binary tree node.\n",
    "class TreeNode(object):\n",
    "    def __init__(self, x):\n",
    "        self.val = x\n",
    "        self.left = None\n",
    "        self.right = None\n",
    "\n",
    "class Solution(object):\n",
    "    def diameterOfBinaryTree(self, root):\n",
    "        \"\"\"\n",
    "        :type root: TreeNode\n",
    "        :rtype: int\n",
    "        \"\"\"\n",
    "        if root is None:\n",
    "            return 0\n",
    "        dia = [0]\n",
    "        def findDepth(self,root):\n",
    "            if root is None:\n",
    "                return 0\n",
    "            if root.left is None and root.right is None:\n",
    "                return 0\n",
    "            else:\n",
    "                depth = 1\n",
    "                dia_left = 1\n",
    "                dia_right = 1\n",
    "                if root.left is None:\n",
    "                    dia_left = 0\n",
    "                if root.right is None:\n",
    "                    dia_right = 0\n",
    "                depth_left = findDepth(self,root.left)\n",
    "                depth_right = findDepth(self,root.right)\n",
    "                depth += max(depth_right,depth_left)\n",
    "                dia_left += depth_left\n",
    "                dia_right += depth_right\n",
    "                dia_total = dia_left + dia_right\n",
    "                cur_max = max(depth,dia_total)\n",
    "                if dia[-1] < cur_max:\n",
    "                    dia.append(cur_max)\n",
    "                return depth\n",
    "        depth = findDepth(self,root)\n",
    "        #print(depth,dia[-1])\n",
    "        return max(depth,dia[-1])        "
   ]
  },
  {
   "cell_type": "code",
   "execution_count": 9,
   "metadata": {},
   "outputs": [
    {
     "name": "stdout",
     "output_type": "stream",
     "text": [
      "3\n1\n"
     ]
    }
   ],
   "source": [
    "solution = Solution()\n",
    "root = TreeNode(1)\n",
    "root.left = TreeNode(2)\n",
    "root.right = TreeNode(3)\n",
    "root.left.left = TreeNode(4)\n",
    "root.left.right = TreeNode(5)\n",
    "\n",
    "root_2 = TreeNode(1)\n",
    "root_2.right = TreeNode(5)\n",
    "root_2.left = TreeNode(2)\n",
    "root_2.left.right = TreeNode(3)\n",
    "root_2.left.right.left = TreeNode(4)\n",
    "\n",
    "\n",
    "print(solution.diameterOfBinaryTree(root_2))\n",
    "print(solution.diameterOfBinaryTree(root.left))"
   ]
  },
  {
   "cell_type": "code",
   "execution_count": null,
   "metadata": {},
   "outputs": [],
   "source": []
  }
 ],
 "metadata": {
  "kernelspec": {
   "display_name": "Python 2",
   "language": "python",
   "name": "python2"
  },
  "language_info": {
   "codemirror_mode": {
    "name": "ipython",
    "version": 2
   },
   "file_extension": ".py",
   "mimetype": "text/x-python",
   "name": "python",
   "nbconvert_exporter": "python",
   "pygments_lexer": "ipython2",
   "version": "2.7.6"
  }
 },
 "nbformat": 4,
 "nbformat_minor": 0
}
