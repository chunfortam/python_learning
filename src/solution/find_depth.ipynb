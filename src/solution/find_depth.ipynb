{
 "cells": [
  {
   "cell_type": "markdown",
   "metadata": {
    "collapsed": true
   },
   "source": [
    "Given a n-ary tree, find its maximum depth.\n",
    "\n",
    "The maximum depth is the number of nodes along the longest path from the root node down to the farthest leaf node.\n",
    "\n",
    "For example, given a 3-ary tree:\n",
    "\n",
    " \n",
    "\n",
    "\n",
    " \n",
    "We should return its max depth, which is 3.\n",
    "\n",
    "Note:\n",
    "\n",
    "The depth of the tree is at most 1000.\n",
    "The total number of nodes is at most 5000.\n",
    "\n",
    "\n",
    "https://leetcode.com/problems/maximum-depth-of-n-ary-tree/description/ "
   ]
  },
  {
   "cell_type": "code",
   "execution_count": 10,
   "metadata": {},
   "outputs": [],
   "source": [
    "\"\"\"\n",
    "#Definition for a Node.\n",
    "\"\"\"\n",
    "class Node(object):\n",
    "    def __init__(self, val, children):\n",
    "        self.val = val\n",
    "        self.children = children\n",
    "\n",
    "class Solution(object):\n",
    "    def maxDepth(self, root):\n",
    "        \"\"\"\n",
    "        :type root: Node\n",
    "        :rtype: int\n",
    "        \"\"\"\n",
    "        if root is None:\n",
    "            return 0\n",
    "        if root.children is None:\n",
    "            return 1\n",
    "        children = [root]\n",
    "        depth = 0\n",
    "        while len(children) != 0:\n",
    "            new_children = []\n",
    "            for child in children:\n",
    "                if child.children is not None:\n",
    "                    new_children = new_children + child.children\n",
    "            depth += 1\n",
    "            children = new_children\n",
    "        return depth    "
   ]
  },
  {
   "cell_type": "code",
   "execution_count": 11,
   "metadata": {},
   "outputs": [
    {
     "name": "stdout",
     "output_type": "stream",
     "text": [
      "4\n"
     ]
    }
   ],
   "source": [
    "solution = Solution()\n",
    "root = Node(1, \n",
    "            [Node(2,\n",
    "                  [Node(3,None),Node(4,\n",
    "                                     [Node(5,None),Node(6,None)])])])\n",
    "\n",
    "print(solution.maxDepth(root))"
   ]
  },
  {
   "cell_type": "code",
   "execution_count": null,
   "metadata": {},
   "outputs": [],
   "source": []
  }
 ],
 "metadata": {
  "kernelspec": {
   "display_name": "Python 2",
   "language": "python",
   "name": "python2"
  },
  "language_info": {
   "codemirror_mode": {
    "name": "ipython",
    "version": 2
   },
   "file_extension": ".py",
   "mimetype": "text/x-python",
   "name": "python",
   "nbconvert_exporter": "python",
   "pygments_lexer": "ipython2",
   "version": "2.7.6"
  }
 },
 "nbformat": 4,
 "nbformat_minor": 0
}
