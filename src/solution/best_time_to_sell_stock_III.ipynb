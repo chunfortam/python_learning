{
 "cells": [
  {
   "cell_type": "markdown",
   "metadata": {
    "collapsed": true
   },
   "source": [
    "Say you have an array for which the ith element is the price of a given stock on day i.\n",
    "\n",
    "Design an algorithm to find the maximum profit. You may complete at most two transactions.\n",
    "\n",
    "Note: You may not engage in multiple transactions at the same time (i.e., you must sell the stock before you buy again).\n",
    "\n",
    "Example 1:\n",
    "\n",
    "Input: [3,3,5,0,0,3,1,4]\n",
    "Output: 6\n",
    "Explanation: Buy on day 4 (price = 0) and sell on day 6 (price = 3), profit = 3-0 = 3.\n",
    "Then buy on day 7 (price = 1) and sell on day 8 (price = 4), profit = 4-1 = 3.\n",
    "Example 2:\n",
    "\n",
    "Input: [1,2,3,4,5]\n",
    "Output: 4\n",
    "Explanation: Buy on day 1 (price = 1) and sell on day 5 (price = 5), profit = 5-1 = 4.\n",
    "Note that you cannot buy on day 1, buy on day 2 and sell them later, as you are\n",
    "engaging multiple transactions at the same time. You must sell before buying again.\n",
    "Example 3:\n",
    "\n",
    "Input: [7,6,4,3,1]\n",
    "Output: 0\n",
    "Explanation: In this case, no transaction is done, i.e. max profit = 0."
   ]
  },
  {
   "cell_type": "code",
   "execution_count": 10,
   "metadata": {},
   "outputs": [],
   "source": [
    "class Solution(object):\n",
    "    def maxProfit(self, prices):\n",
    "        \"\"\"\n",
    "        :type prices: List[int]\n",
    "        :rtype: int\n",
    "        \"\"\"\n",
    "        if not prices:\n",
    "            return 0\n",
    "        profile_1 = 0\n",
    "        profile_2 = 0\n",
    "        buy_price = prices[0]\n",
    "        sell_price = prices[0]\n",
    "\n",
    "        for i in prices:\n",
    "            print(\"p1 %d and p2 %d\" %(profile_1,profile_2))\n",
    "            if i > sell_price:\n",
    "                sell_price = i\n",
    "            else:\n",
    "                temp_profile = sell_price - buy_price\n",
    "                p1_bigger = profile_1 > profile_2\n",
    "                \n",
    "                if not p1_bigger:\n",
    "                    if temp_profile > profile_1:\n",
    "                        profile_1 = temp_profile\n",
    "                else:\n",
    "                    if temp_profile > profile_2:\n",
    "                        profile_2 = temp_profile\n",
    "                sell_price = i\n",
    "                buy_price = i\n",
    "        temp_profile = sell_price - buy_price\n",
    "        p1_bigger = profile_1 > profile_2\n",
    "\n",
    "        if not p1_bigger:\n",
    "            if temp_profile > profile_1:\n",
    "                profile_1 = temp_profile\n",
    "        else:\n",
    "            if temp_profile > profile_2:\n",
    "                profile_2 = temp_profile\n",
    "        return profile_1 + profile_2"
   ]
  },
  {
   "cell_type": "code",
   "execution_count": 13,
   "metadata": {},
   "outputs": [
    {
     "name": "stdout",
     "output_type": "stream",
     "text": [
      "p1 0 and p2 0\np1 0 and p2 0\np1 0 and p2 0\np1 0 and p2 0\np1 3 and p2 0\np1 3 and p2 0\np1 3 and p2 0\np1 3 and p2 5\np1 3 and p2 5\np1 3 and p2 5\n"
     ]
    },
    {
     "data": {
      "text/plain": [
       "12"
      ]
     },
     "execution_count": 13,
     "metadata": {},
     "output_type": "execute_result"
    }
   ],
   "source": [
    "solution = Solution()\n",
    "solution.maxProfit([1,2,4,2,5,7,2,4,9,0])"
   ]
  },
  {
   "cell_type": "code",
   "execution_count": null,
   "metadata": {},
   "outputs": [],
   "source": []
  }
 ],
 "metadata": {
  "kernelspec": {
   "display_name": "Python 2",
   "language": "python",
   "name": "python2"
  },
  "language_info": {
   "codemirror_mode": {
    "name": "ipython",
    "version": 2
   },
   "file_extension": ".py",
   "mimetype": "text/x-python",
   "name": "python",
   "nbconvert_exporter": "python",
   "pygments_lexer": "ipython2",
   "version": "2.7.6"
  }
 },
 "nbformat": 4,
 "nbformat_minor": 0
}
