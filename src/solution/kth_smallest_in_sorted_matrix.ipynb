{
 "cells": [
  {
   "cell_type": "markdown",
   "metadata": {
    "collapsed": true
   },
   "source": [
    "Given a n x n matrix where each of the rows and columns are sorted in ascending order, find the kth smallest element in the matrix.\n",
    "\n",
    "Note that it is the kth smallest element in the sorted order, not the kth distinct element.\n",
    "\n",
    "Example:\n",
    "\n",
    "matrix = [\n",
    "             [ 1,  5,  9],\n",
    "             [10, 11, 13],\n",
    "             [12, 13, 15]\n",
    "         ],\n",
    "k = 8,\n",
    "\n",
    "return 13.\n",
    "Note:\n",
    "You may assume k is always valid, 1 ≤ k ≤ n2."
   ]
  },
  {
   "cell_type": "code",
   "execution_count": 1,
   "metadata": {},
   "outputs": [],
   "source": [
    "class Solution(object):\n",
    "    def kthSmallest(self, matrix, k):\n",
    "        \"\"\"\n",
    "        :type matrix: List[List[int]]\n",
    "        :type k: int\n",
    "        :rtype: int\n",
    "        \"\"\"\n",
    "        "
   ]
  },
  {
   "cell_type": "code",
   "execution_count": null,
   "metadata": {},
   "outputs": [],
   "source": []
  }
 ],
 "metadata": {
  "kernelspec": {
   "display_name": "Python 2",
   "language": "python",
   "name": "python2"
  },
  "language_info": {
   "codemirror_mode": {
    "name": "ipython",
    "version": 2
   },
   "file_extension": ".py",
   "mimetype": "text/x-python",
   "name": "python",
   "nbconvert_exporter": "python",
   "pygments_lexer": "ipython2",
   "version": "2.7.6"
  }
 },
 "nbformat": 4,
 "nbformat_minor": 0
}
