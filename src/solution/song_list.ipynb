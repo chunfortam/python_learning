{
 "cells": [
  {
   "cell_type": "code",
   "execution_count": 9,
   "metadata": {
    "collapsed": true
   },
   "outputs": [
    {
     "name": "stdout",
     "output_type": "stream",
     "text": [
      "\n小玩意\nallofyou\nhowdeepisyourlove\nbykina\n台下敬酒\naboutyou\nmarrymemarz\n最好給最好\n切餅祝酒致辭\nthinkingoutloud\njustthewayyouare\nhappy\n台上敬酒\nyouaremyworld\nsway\n找到天使了\n有了你譚嘉怡\nathousandyears\nalways\n早拍晚播\nquando\nmarryme\niwannagrowoldwithu\n送客音樂\n你的名字我的姓氏\nyouaresobeautiful\n告白氣球\ncanthelpfallinginlove\n最重要的決定\n簡單愛\n乳豬\n喜氣洋洋\n席前音樂\nyouarethesunshineofmyeye\n囍菜\n有了你\nstaywithyou\n進場音樂\nlucky\nwhenyoutellmethatyouloveme\nthisipromiseyou\nichooseyou\nsugar\nbestdayofmylife\namazed\neverything\nsundaymorning\n愛很簡單\nifiaintgotu\nicantwait\n第二道菜台下敬酒前\n就是愛你\nforeverlove\nincaseyoudidntknow\nimyours\n"
     ]
    }
   ],
   "source": [
    "import re\n",
    "fname = '/Users/ctam/songlist.csv'\n",
    "with open(fname) as f:\n",
    "    content = f.readlines()\n",
    "    song_set = set()\n",
    "    for line in content:\n",
    "        songs = line.split(\",\")\n",
    "        for song in songs:\n",
    "            song = re.sub(r'\\W+', '', song)\n",
    "            song = song.lower()\n",
    "            song_set.add(song)\n",
    "for i in song_set:\n",
    "    print(i)"
   ]
  },
  {
   "cell_type": "code",
   "execution_count": 7,
   "metadata": {},
   "outputs": [],
   "source": []
  },
  {
   "cell_type": "code",
   "execution_count": null,
   "metadata": {},
   "outputs": [],
   "source": []
  }
 ],
 "metadata": {
  "kernelspec": {
   "display_name": "Python 2",
   "language": "python",
   "name": "python2"
  },
  "language_info": {
   "codemirror_mode": {
    "name": "ipython",
    "version": 2
   },
   "file_extension": ".py",
   "mimetype": "text/x-python",
   "name": "python",
   "nbconvert_exporter": "python",
   "pygments_lexer": "ipython2",
   "version": "2.7.6"
  }
 },
 "nbformat": 4,
 "nbformat_minor": 0
}
